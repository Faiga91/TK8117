{
 "cells": [
  {
   "cell_type": "markdown",
   "metadata": {},
   "source": [
    "# Importing the required packages"
   ]
  },
  {
   "cell_type": "code",
   "execution_count": 1,
   "metadata": {},
   "outputs": [],
   "source": [
    "import numpy as np\n",
    "import matplotlib.pyplot as plt\n",
    "%matplotlib inline\n",
    "import warnings\n",
    "warnings.filterwarnings('ignore', '.*do not.*',)"
   ]
  },
  {
   "cell_type": "code",
   "execution_count": 2,
   "metadata": {},
   "outputs": [],
   "source": [
    "# plate size, m\n",
    "w = h = 0.010\n",
    "# intervals in x-, y- directions, mm\n",
    "dx = dy = 0.0002\n",
    "# Thermal diffusivity of steel, mm2.s-1\n",
    "K = 4.*0.001*0.001\n",
    "rho=1.0\n",
    "cp=1.0\n",
    "Tcool, Thot = 300, 700\n",
    "nsteps = 20000"
   ]
  },
  {
   "cell_type": "code",
   "execution_count": 3,
   "metadata": {},
   "outputs": [],
   "source": [
    "nx, ny = int(w/dx), int(h/dy)\n",
    "dx2, dy2 = dx*dx, dy*dy\n",
    "dt = dx2 * dy2 / (2 * K * (dx2 + dy2)/rho/cp)\n",
    "T0 = Tcool * np.ones((nx, ny))\n",
    "T = np.empty((nx, ny))\n",
    "q = np.zeros((nx, ny))"
   ]
  },
  {
   "cell_type": "code",
   "execution_count": 4,
   "metadata": {},
   "outputs": [],
   "source": [
    "def init_circ(T0):\n",
    "    # Initial conditions - ring of inner radius r, width dr centred at (cx,cy) (mm)\n",
    "    r, cx, cy = 0.002, 0.005, 0.005\n",
    "    r2 = r**2\n",
    "    for i in range(nx):\n",
    "        for j in range(ny):\n",
    "            p2 = (i*dx-cx)**2 + (j*dy-cy)**2\n",
    "            if p2 < r2:\n",
    "                T0[i,j] = Thot\n",
    "    return T0"
   ]
  },
  {
   "cell_type": "code",
   "execution_count": 5,
   "metadata": {},
   "outputs": [],
   "source": [
    "def init_square(T0):\n",
    "    dl,cx,cy=0.002,0.005,0.005\n",
    "    for i in range(nx):\n",
    "        for j in range(ny):\n",
    "            if (i*dx > cx-dl) and (i*dx < cx+dl) and (j*dy > cy-dl) and (j*dy <cy+dl):\n",
    "                T0[i,j]=Thot\n",
    "    return T0"
   ]
  },
  {
   "cell_type": "code",
   "execution_count": 6,
   "metadata": {},
   "outputs": [],
   "source": [
    "def do_timestep(T0, T):\n",
    "    # Propagate with forward-difference in time, central-difference in space\n",
    "    T[1:-1, 1:-1] = T0[1:-1, 1:-1] + (K * dt/rho/cp) * (\n",
    "          (T0[2:, 1:-1] - 2*T0[1:-1, 1:-1] + T0[:-2, 1:-1])/dx2\n",
    "          + (T0[1:-1, 2:] - 2*T0[1:-1, 1:-1] + T0[1:-1, :-2])/dy2 ) +q[1:-1,1:-1]*(dt/rho/cp)\n",
    "\n",
    "    T0 = T.copy()\n",
    "    return T0, T"
   ]
  },
  {
   "cell_type": "markdown",
   "metadata": {},
   "source": [
    "# Solve the equations to generate the temperature field"
   ]
  },
  {
   "cell_type": "code",
   "execution_count": 7,
   "metadata": {},
   "outputs": [],
   "source": [
    "X=np.zeros((nsteps,nx,ny))\n",
    "T0=init_square(T0)\n",
    "for m in range(nsteps):\n",
    "    T0, T = do_timestep(T0, T)\n",
    "    X[m,:,:]=T[:,:]"
   ]
  },
  {
   "cell_type": "code",
   "execution_count": 8,
   "metadata": {},
   "outputs": [
    {
     "data": {
      "image/png": "[encoded data removed]",
      "text/plain": [
       "<Figure size 432x288 with 1 Axes>"
      ]
     },
     "metadata": {},
     "output_type": "display_data"
    }
   ],
   "source": [
    "plt.contourf(X[0,:,:])\n",
    "plt.show()"
   ]
  },
  {
   "cell_type": "markdown",
   "metadata": {},
   "source": [
    "# Preparing data for training"
   ]
  },
  {
   "cell_type": "code",
   "execution_count": 9,
   "metadata": {},
   "outputs": [],
   "source": [
    "X_train=np.reshape(X, (len(X), nx, ny, 1))"
   ]
  },
  {
   "cell_type": "code",
   "execution_count": 10,
   "metadata": {},
   "outputs": [],
   "source": [
    "# We want to predict the temperature field at time \"n+1\" using the temperature field at time \"n\"\n",
    "X1_train=X_train[0:len(X_train)-1,:,:,:]\n",
    "y1_train=X_train[1:len(X_train),:,:,:]"
   ]
  },
  {
   "cell_type": "code",
   "execution_count": 11,
   "metadata": {},
   "outputs": [
    {
     "name": "stderr",
     "output_type": "stream",
     "text": [
      "Using TensorFlow backend.\n"
     ]
    }
   ],
   "source": [
    "from keras.layers import Input, Dense, Conv2D, MaxPooling2D, UpSampling2D\n",
    "from keras.models import Model\n",
    "from keras import backend as K\n",
    "input_img = Input(shape=(nx, ny, 1))\n",
    "x = Conv2D(16, (3, 3), activation='relu', padding='same')(input_img)\n",
    "x = Conv2D(8, (3, 3), activation='relu', padding='same')(x)\n",
    "encoded = Conv2D(8, (3, 3), activation='relu', padding='same')(x)\n",
    "x = Conv2D(8, (3, 3), activation='relu', padding='same')(encoded)\n",
    "x = Conv2D(8, (3, 3), activation='relu', padding='same')(x)\n",
    "x = Conv2D(16, (3, 3), activation='relu',padding='same')(x)\n",
    "decoded = Conv2D(1, (3, 3), activation='linear', padding='same')(x)\n",
    "autoencoder = Model(input_img, decoded)\n",
    "autoencoder.compile(loss='mean_squared_error', optimizer='adam')"
   ]
  },
  {
   "cell_type": "code",
   "execution_count": 12,
   "metadata": {},
   "outputs": [
    {
     "name": "stdout",
     "output_type": "stream",
     "text": [
      "Epoch 1/100\n",
      "19999/19999 [==============================] - 9s 466us/step - loss: 68.3508\n",
      "Epoch 2/100\n",
      "19999/19999 [==============================] - 4s 201us/step - loss: 2.3124\n",
      "Epoch 3/100\n",
      "19999/19999 [==============================] - 4s 201us/step - loss: 0.8879\n",
      "Epoch 4/100\n",
      "19999/19999 [==============================] - 4s 201us/step - loss: 0.5108\n",
      "Epoch 5/100\n",
      "19999/19999 [==============================] - 4s 202us/step - loss: 0.2949 1s\n",
      "Epoch 6/100\n",
      "19999/19999 [==============================] - 4s 201us/step - loss: 0.2067\n",
      "Epoch 7/100\n",
      "19999/19999 [==============================] - 4s 201us/step - loss: 0.1367\n",
      "Epoch 8/100\n",
      "19999/19999 [==============================] - 4s 202us/step - loss: 0.1165\n",
      "Epoch 9/100\n",
      "19999/19999 [==============================] - 4s 202us/step - loss: 0.0909\n",
      "Epoch 10/100\n",
      "19999/19999 [==============================] - 4s 203us/step - loss: 0.0740\n",
      "Epoch 11/100\n",
      "19999/19999 [==============================] - 4s 203us/step - loss: 0.0779\n",
      "Epoch 12/100\n",
      "19999/19999 [==============================] - 4s 205us/step - loss: 0.3038\n",
      "Epoch 13/100\n",
      "19999/19999 [==============================] - 4s 202us/step - loss: 0.0719\n",
      "Epoch 14/100\n",
      "19999/19999 [==============================] - 4s 204us/step - loss: 0.0403\n",
      "Epoch 15/100\n",
      "19999/19999 [==============================] - 4s 203us/step - loss: 0.0379\n",
      "Epoch 16/100\n",
      "19999/19999 [==============================] - 4s 205us/step - loss: 0.0289\n",
      "Epoch 17/100\n",
      "19999/19999 [==============================] - 4s 203us/step - loss: 0.0278\n",
      "Epoch 18/100\n",
      "19999/19999 [==============================] - 4s 202us/step - loss: 0.0269\n",
      "Epoch 19/100\n",
      "19999/19999 [==============================] - 4s 208us/step - loss: 0.0276\n",
      "Epoch 20/100\n",
      "19999/19999 [==============================] - 4s 202us/step - loss: 0.0228\n",
      "Epoch 21/100\n",
      "19999/19999 [==============================] - 4s 208us/step - loss: 0.0248\n",
      "Epoch 22/100\n",
      "19999/19999 [==============================] - 4s 206us/step - loss: 0.0319\n",
      "Epoch 23/100\n",
      "19999/19999 [==============================] - 4s 203us/step - loss: 0.0406\n",
      "Epoch 24/100\n",
      "19999/19999 [==============================] - 4s 206us/step - loss: 0.0179\n",
      "Epoch 25/100\n",
      "19999/19999 [==============================] - 4s 209us/step - loss: 0.0184\n",
      "Epoch 26/100\n",
      "19999/19999 [==============================] - 4s 206us/step - loss: 0.0354\n",
      "Epoch 27/100\n",
      "19999/19999 [==============================] - 4s 204us/step - loss: 0.0212\n",
      "Epoch 28/100\n",
      "19999/19999 [==============================] - 4s 205us/step - loss: 0.0193\n",
      "Epoch 29/100\n",
      "19999/19999 [==============================] - 4s 208us/step - loss: 0.0465\n",
      "Epoch 30/100\n",
      "19999/19999 [==============================] - 4s 205us/step - loss: 0.0333\n",
      "Epoch 31/100\n",
      "19999/19999 [==============================] - 4s 204us/step - loss: 0.0224\n",
      "Epoch 32/100\n",
      "19999/19999 [==============================] - 4s 209us/step - loss: 0.0172\n",
      "Epoch 33/100\n",
      "19999/19999 [==============================] - 4s 210us/step - loss: 0.4732\n",
      "Epoch 34/100\n",
      "19999/19999 [==============================] - 4s 206us/step - loss: 0.5287\n",
      "Epoch 35/100\n",
      "19999/19999 [==============================] - 4s 203us/step - loss: 0.1657\n",
      "Epoch 36/100\n",
      "19999/19999 [==============================] - 4s 207us/step - loss: 0.0235\n",
      "Epoch 37/100\n",
      "19999/19999 [==============================] - 4s 209us/step - loss: 0.0211\n",
      "Epoch 38/100\n",
      "19999/19999 [==============================] - 4s 204us/step - loss: 0.0151\n",
      "Epoch 39/100\n",
      "19999/19999 [==============================] - 4s 214us/step - loss: 0.0123\n",
      "Epoch 40/100\n",
      "19999/19999 [==============================] - 4s 206us/step - loss: 0.0217\n",
      "Epoch 41/100\n",
      "19999/19999 [==============================] - 4s 205us/step - loss: 0.0293\n",
      "Epoch 42/100\n",
      "19999/19999 [==============================] - 4s 202us/step - loss: 0.0199\n",
      "Epoch 43/100\n",
      "19999/19999 [==============================] - 4s 204us/step - loss: 0.0120\n",
      "Epoch 44/100\n",
      "19999/19999 [==============================] - 4s 207us/step - loss: 0.0097\n",
      "Epoch 45/100\n",
      "19999/19999 [==============================] - 4s 213us/step - loss: 0.0113\n",
      "Epoch 46/100\n",
      "19999/19999 [==============================] - 4s 213us/step - loss: 0.0502\n",
      "Epoch 47/100\n",
      "19999/19999 [==============================] - 4s 210us/step - loss: 0.0785\n",
      "Epoch 48/100\n",
      "19999/19999 [==============================] - 4s 202us/step - loss: 0.0174\n",
      "Epoch 49/100\n",
      "19999/19999 [==============================] - 4s 202us/step - loss: 0.2884\n",
      "Epoch 50/100\n",
      "19999/19999 [==============================] - 4s 203us/step - loss: 0.1011\n",
      "Epoch 51/100\n",
      "19999/19999 [==============================] - 4s 209us/step - loss: 0.0098\n",
      "Epoch 52/100\n",
      "19999/19999 [==============================] - 4s 209us/step - loss: 0.0084\n",
      "Epoch 53/100\n",
      "19999/19999 [==============================] - 4s 208us/step - loss: 0.0086\n",
      "Epoch 54/100\n",
      "19999/19999 [==============================] - 4s 206us/step - loss: 0.0090\n",
      "Epoch 55/100\n",
      "19999/19999 [==============================] - 4s 206us/step - loss: 0.0085\n",
      "Epoch 56/100\n",
      "19999/19999 [==============================] - 4s 211us/step - loss: 0.0100\n",
      "Epoch 57/100\n",
      "19999/19999 [==============================] - 4s 205us/step - loss: 0.0104\n",
      "Epoch 58/100\n",
      "19999/19999 [==============================] - 4s 210us/step - loss: 0.0191\n",
      "Epoch 59/100\n",
      "19999/19999 [==============================] - 4s 214us/step - loss: 0.0755 1s - \n",
      "Epoch 60/100\n",
      "19999/19999 [==============================] - 4s 213us/step - loss: 0.1873\n",
      "Epoch 61/100\n",
      "19999/19999 [==============================] - 4s 213us/step - loss: 0.0482\n",
      "Epoch 62/100\n",
      "19999/19999 [==============================] - 4s 212us/step - loss: 0.0087\n",
      "Epoch 63/100\n",
      "19999/19999 [==============================] - 4s 215us/step - loss: 0.0135\n",
      "Epoch 64/100\n",
      "19999/19999 [==============================] - 4s 213us/step - loss: 0.1416\n",
      "Epoch 65/100\n",
      "19999/19999 [==============================] - 4s 219us/step - loss: 0.3693\n",
      "Epoch 66/100\n",
      "19999/19999 [==============================] - 4s 211us/step - loss: 1.0534\n",
      "Epoch 67/100\n",
      "19999/19999 [==============================] - 4s 205us/step - loss: 2.7752\n",
      "Epoch 68/100\n",
      "19999/19999 [==============================] - 4s 216us/step - loss: 0.1051\n",
      "Epoch 69/100\n",
      "19999/19999 [==============================] - 4s 204us/step - loss: 0.0300\n",
      "Epoch 70/100\n",
      "19999/19999 [==============================] - 4s 204us/step - loss: 0.0141\n",
      "Epoch 71/100\n",
      "19999/19999 [==============================] - 4s 206us/step - loss: 0.0107\n",
      "Epoch 72/100\n",
      "19999/19999 [==============================] - 4s 212us/step - loss: 0.0095\n",
      "Epoch 73/100\n",
      "19999/19999 [==============================] - 4s 204us/step - loss: 0.0090\n",
      "Epoch 74/100\n",
      "19999/19999 [==============================] - 4s 213us/step - loss: 0.0091\n",
      "Epoch 75/100\n",
      "19999/19999 [==============================] - 4s 220us/step - loss: 0.0079\n",
      "Epoch 76/100\n",
      "19999/19999 [==============================] - 4s 221us/step - loss: 0.0078\n",
      "Epoch 77/100\n",
      "19999/19999 [==============================] - 4s 219us/step - loss: 0.0080\n",
      "Epoch 78/100\n",
      "19999/19999 [==============================] - 4s 213us/step - loss: 0.0110\n",
      "Epoch 79/100\n",
      "19999/19999 [==============================] - 4s 211us/step - loss: 0.0078\n",
      "Epoch 80/100\n",
      "19999/19999 [==============================] - 4s 210us/step - loss: 0.0068\n",
      "Epoch 81/100\n",
      "19999/19999 [==============================] - 4s 211us/step - loss: 0.0065\n",
      "Epoch 82/100\n",
      "19999/19999 [==============================] - 4s 209us/step - loss: 0.0082\n",
      "Epoch 83/100\n",
      "19999/19999 [==============================] - 4s 221us/step - loss: 0.0109\n",
      "Epoch 84/100\n",
      "19999/19999 [==============================] - 4s 218us/step - loss: 0.0071\n",
      "Epoch 85/100\n",
      "19999/19999 [==============================] - 4s 205us/step - loss: 0.0094\n",
      "Epoch 86/100\n",
      "19999/19999 [==============================] - 4s 206us/step - loss: 0.0260\n",
      "Epoch 87/100\n",
      "19999/19999 [==============================] - 4s 206us/step - loss: 0.2022\n",
      "Epoch 88/100\n",
      "19999/19999 [==============================] - 4s 203us/step - loss: 0.2430\n",
      "Epoch 89/100\n",
      "19999/19999 [==============================] - 4s 203us/step - loss: 0.0147\n",
      "Epoch 90/100\n",
      "19999/19999 [==============================] - 4s 203us/step - loss: 0.0067\n",
      "Epoch 91/100\n",
      "19999/19999 [==============================] - 4s 205us/step - loss: 0.0068\n",
      "Epoch 92/100\n",
      "19999/19999 [==============================] - 4s 205us/step - loss: 0.0064\n",
      "Epoch 93/100\n"
     ]
    },
    {
     "name": "stdout",
     "output_type": "stream",
     "text": [
      "19999/19999 [==============================] - 4s 207us/step - loss: 0.0216\n",
      "Epoch 94/100\n",
      "19999/19999 [==============================] - 4s 203us/step - loss: 0.0487\n",
      "Epoch 95/100\n",
      "19999/19999 [==============================] - 4s 203us/step - loss: 0.0826\n",
      "Epoch 96/100\n",
      "19999/19999 [==============================] - 4s 203us/step - loss: 0.0095\n",
      "Epoch 97/100\n",
      "19999/19999 [==============================] - 4s 204us/step - loss: 0.0113\n",
      "Epoch 98/100\n",
      "19999/19999 [==============================] - 4s 214us/step - loss: 0.1479\n",
      "Epoch 99/100\n",
      "19999/19999 [==============================] - 4s 213us/step - loss: 1.4225\n",
      "Epoch 100/100\n",
      "19999/19999 [==============================] - 4s 211us/step - loss: 2.6135\n"
     ]
    },
    {
     "data": {
      "text/plain": [
       "<keras.callbacks.History at 0x22419e71208>"
      ]
     },
     "execution_count": 12,
     "metadata": {},
     "output_type": "execute_result"
    }
   ],
   "source": [
    "autoencoder.fit(X1_train, y1_train,epochs=100,batch_size=500)"
   ]
  },
  {
   "cell_type": "code",
   "execution_count": 13,
   "metadata": {},
   "outputs": [
    {
     "data": {
      "image/png": "[encoded data removed]",
      "text/plain": [
       "<Figure size 432x288 with 1 Axes>"
      ]
     },
     "metadata": {},
     "output_type": "display_data"
    }
   ],
   "source": [
    "plt.contourf(X1_train[0,:,:,0])\n",
    "plt.show()"
   ]
  },
  {
   "cell_type": "markdown",
   "metadata": {},
   "source": [
    "# Make the predictions using CNN"
   ]
  },
  {
   "cell_type": "code",
   "execution_count": 14,
   "metadata": {},
   "outputs": [],
   "source": [
    "xtest=X1_train[0,:,:,0]\n",
    "xtest=np.reshape(xtest,(1,nx,ny,1))\n",
    "Xconv=np.zeros((nsteps,nx,ny))\n",
    "for m in range(nsteps):\n",
    "    xtest=autoencoder.predict(xtest)\n",
    "    Xconv[m,:,:]=xtest[0,:,:,0]"
   ]
  },
  {
   "cell_type": "code",
   "execution_count": 15,
   "metadata": {},
   "outputs": [
    {
     "data": {
      "image/png": "[encoded data removed]",
      "text/plain": [
       "<Figure size 432x288 with 1 Axes>"
      ]
     },
     "metadata": {},
     "output_type": "display_data"
    }
   ],
   "source": [
    "plt.contourf(Xconv[200,:,:])\n",
    "plt.show()"
   ]
  },
  {
   "cell_type": "code",
   "execution_count": 16,
   "metadata": {},
   "outputs": [
    {
     "data": {
      "image/png": "[encoded data removed]",
      "text/plain": [
       "<Figure size 432x288 with 1 Axes>"
      ]
     },
     "metadata": {},
     "output_type": "display_data"
    }
   ],
   "source": [
    "plt.plot(Xconv[0:2000,25,25])\n",
    "plt.plot(X1_train[0:2000,25,25,0])\n",
    "plt.show()"
   ]
  },
  {
   "cell_type": "code",
   "execution_count": null,
   "metadata": {},
   "outputs": [],
   "source": []
  }
 ],
 "metadata": {
  "kernelspec": {
   "display_name": "Python 3",
   "language": "python",
   "name": "python3"
  },
  "language_info": {
   "codemirror_mode": {
    "name": "ipython",
    "version": 3
   },
   "file_extension": ".py",
   "mimetype": "text/x-python",
   "name": "python",
   "nbconvert_exporter": "python",
   "pygments_lexer": "ipython3",
   "version": "3.6.6"
  }
 },
 "nbformat": 4,
 "nbformat_minor": 2
}
