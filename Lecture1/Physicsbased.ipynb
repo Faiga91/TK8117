{
 "cells": [
  {
   "cell_type": "markdown",
   "metadata": {},
   "source": [
    "# Importing the required packages"
   ]
  },
  {
   "cell_type": "code",
   "execution_count": 1,
   "metadata": {},
   "outputs": [],
   "source": [
    "import numpy as np\n",
    "import matplotlib.pyplot as plt\n",
    "%matplotlib inline\n",
    "import warnings\n",
    "warnings.filterwarnings('ignore', '.*do not.*',)"
   ]
  },
  {
   "cell_type": "code",
   "execution_count": 2,
   "metadata": {},
   "outputs": [],
   "source": [
    "# plate size, m\n",
    "w = h = 0.010\n",
    "# intervals in x-, y- directions, mm\n",
    "dx = dy = 0.0002\n",
    "# Thermal diffusivity of steel, mm2.s-1\n",
    "K = 4.*0.001*0.001\n",
    "rho=1.0\n",
    "cp=1.0\n",
    "Tcool, Thot = 300, 700\n",
    "nsteps = 20000"
   ]
  },
  {
   "cell_type": "code",
   "execution_count": 3,
   "metadata": {},
   "outputs": [],
   "source": [
    "nx, ny = int(w/dx), int(h/dy)\n",
    "dx2, dy2 = dx*dx, dy*dy\n",
    "dt = dx2 * dy2 / (2 * K * (dx2 + dy2)/rho/cp)\n",
    "T0 = Tcool * np.ones((nx, ny))\n",
    "T = np.empty((nx, ny))\n",
    "q = np.zeros((nx, ny))"
   ]
  },
  {
   "cell_type": "code",
   "execution_count": 4,
   "metadata": {},
   "outputs": [],
   "source": [
    "def init_circ(T0):\n",
    "    # Initial conditions - ring of inner radius r, width dr centred at (cx,cy) (mm)\n",
    "    r, cx, cy = 0.002, 0.005, 0.005\n",
    "    r2 = r**2\n",
    "    for i in range(nx):\n",
    "        for j in range(ny):\n",
    "            p2 = (i*dx-cx)**2 + (j*dy-cy)**2\n",
    "            if p2 < r2:\n",
    "                T0[i,j] = Thot\n",
    "    return T0"
   ]
  },
  {
   "cell_type": "code",
   "execution_count": 5,
   "metadata": {},
   "outputs": [],
   "source": [
    "def init_square(T0):\n",
    "    dl,cx,cy=0.002,0.005,0.005\n",
    "    for i in range(nx):\n",
    "        for j in range(ny):\n",
    "            if (i*dx > cx-dl) and (i*dx < cx+dl) and (j*dy > cy-dl) and (j*dy <cy+dl):\n",
    "                T0[i,j]=Thot\n",
    "    return T0"
   ]
  },
  {
   "cell_type": "code",
   "execution_count": 6,
   "metadata": {},
   "outputs": [],
   "source": [
    "def do_timestep(T0, T):\n",
    "    # Propagate with forward-difference in time, central-difference in space\n",
    "    T[1:-1, 1:-1] = T0[1:-1, 1:-1] + (K * dt/rho/cp) * (\n",
    "          (T0[2:, 1:-1] - 2*T0[1:-1, 1:-1] + T0[:-2, 1:-1])/dx2\n",
    "          + (T0[1:-1, 2:] - 2*T0[1:-1, 1:-1] + T0[1:-1, :-2])/dy2 ) +q[1:-1,1:-1]*(dt/rho/cp)\n",
    "\n",
    "    T0 = T.copy()\n",
    "    return T0, T"
   ]
  },
  {
   "cell_type": "markdown",
   "metadata": {},
   "source": [
    "# Solve the equations to generate the temperature field"
   ]
  },
  {
   "cell_type": "code",
   "execution_count": 7,
   "metadata": {},
   "outputs": [],
   "source": [
    "X=np.zeros((nsteps,nx,ny))\n",
    "T0=init_square(T0)\n",
    "for m in range(nsteps):\n",
    "    T0, T = do_timestep(T0, T)\n",
    "    X[m,:,:]=T[:,:]"
   ]
  },
  {
   "cell_type": "code",
   "execution_count": 11,
   "metadata": {},
   "outputs": [
    {
     "data": {
      "image/png": "[encoded data removed]",
      "text/plain": [
       "<Figure size 432x288 with 1 Axes>"
      ]
     },
     "metadata": {},
     "output_type": "display_data"
    }
   ],
   "source": [
    "plt.contourf(X[0,:,:])\n",
    "plt.show()"
   ]
  }
 ],
 "metadata": {
  "kernelspec": {
   "display_name": "Python 3",
   "language": "python",
   "name": "python3"
  },
  "language_info": {
   "codemirror_mode": {
    "name": "ipython",
    "version": 3
   },
   "file_extension": ".py",
   "mimetype": "text/x-python",
   "name": "python",
   "nbconvert_exporter": "python",
   "pygments_lexer": "ipython3",
   "version": "3.6.6"
  }
 },
 "nbformat": 4,
 "nbformat_minor": 2
}
