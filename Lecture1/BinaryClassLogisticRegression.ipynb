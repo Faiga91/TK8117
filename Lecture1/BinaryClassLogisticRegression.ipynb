{
 "cells": [
  {
   "cell_type": "markdown",
   "metadata": {
    "nbpresent": {
     "id": "a4989faf-eee5-4d66-99f3-144741452719"
    }
   },
   "source": [
    "# BINARY CLASS LOGISTIC REGRESSION\n",
    "<b>Objective:</b> To learn Logistic Regression involving binary class\n",
    "* Binary Classification\n",
    "* Cost Function\n",
    "* Decision Boundary\n",
    "\n",
    "<b>Problem:</b> We will solve two set of problems\n",
    "1. Linearly Separable Data: Depending upong the scores in two exams predict whether a candidate is admitted to a college.\n",
    "2. Non Seprarable data using a line: Depending upon two tests for microchips detect the defective ones.\n",
    "\n",
    "<div class=\"container\" style=\"width: 100%;\">\n",
    " <div class=\"theme-table-image col-sm-6\" >\n",
    "   <img src=\"./images/linearly_separable_data.png\" width=50% align='left'>\n",
    " </div>\n",
    " <div class=\"theme-table-image col-sm-6\">\n",
    "   <img src=\"./images/nonlinearly_separable_data.png\" width=50% align='right'>\n",
    " </div>\n",
    " </div>"
   ]
  },
  {
   "cell_type": "code",
   "execution_count": 12,
   "metadata": {
    "nbpresent": {
     "id": "31893db2-9978-4013-8fe6-a085b788626b"
    }
   },
   "outputs": [],
   "source": [
    "import warnings\n",
    "warnings.filterwarnings('ignore')\n",
    "import numpy as np\n",
    "from scipy.special import expit\n",
    "import matplotlib.pyplot as plt\n",
    "from scipy.optimize import fmin\n",
    "from scipy.optimize import fmin_bfgs"
   ]
  },
  {
   "cell_type": "code",
   "execution_count": 13,
   "metadata": {
    "nbpresent": {
     "id": "7e38e408-292f-4384-afe5-f0a6ff6f7a3f"
    }
   },
   "outputs": [],
   "source": [
    "def plotData(X, y):\n",
    "    p1 = plt.plot(X[np.where(y==1),0], X[np.where(y==1),1], marker='+', markersize=9, color='blue')[0]\n",
    "    p2 = plt.plot(X[np.where(y==0),0], X[np.where(y==0),1], marker='o', markersize=7, color='red')[0]\n",
    "    return plt, p1, p2"
   ]
  },
  {
   "cell_type": "markdown",
   "metadata": {
    "nbpresent": {
     "id": "e0af62b2-1979-4d14-bf49-529720b8e554"
    }
   },
   "source": [
    "Sigmoid Activation Function\n",
    "$\\sigma(t)=\\frac{1}{1+e^{-t}}$\n",
    "\n",
    "<img src=\"./images/sigmoid.png\" style=\"float: left; margin-right: 10px;\" />"
   ]
  },
  {
   "cell_type": "code",
   "execution_count": 14,
   "metadata": {
    "nbpresent": {
     "id": "1dbbe37e-de39-4c36-a07c-9a34c941d0c9"
    }
   },
   "outputs": [],
   "source": [
    "def sigmoid(z):\n",
    "    g = np.zeros(z.shape)\n",
    "    g = expit(z)\n",
    "    return g"
   ]
  },
  {
   "cell_type": "markdown",
   "metadata": {
    "nbpresent": {
     "id": "a8283db0-ddbb-4890-9032-99ce14bc8a25"
    }
   },
   "source": [
    "# Simplified Cost Function\n",
    "\n",
    "We cannot use the same cost function that we used for linear regression because the Logistic Function will cause the output to be wavy, causing many local minima. In other words, it will not be a convex function.\n",
    "\n",
    "Instead, our cost function for logistic regression looks like:\n",
    "\n",
    "$J(\\theta)=\\frac{1}{2m}\\Sigma_{i=1}^{m}Cost(h_{\\theta}(x^{(i)}),y^{(i)})$\n",
    "\n",
    "$Cost(h_{\\theta}(x),y)=-log(h_{\\theta}(x))$ if $y=1$\n",
    "\n",
    "$Cost(h_{\\theta}(x),y)=-log(1-h_{\\theta}(x))$ if $y=0$\n",
    "\n",
    "$Cost(h_{\\theta}(x),y)=0$ if $h_{\\theta}(x)=y$\n",
    "\n",
    "$Cost(h_{\\theta}(x),y) \\rightarrow \\infty$ if $y=0$ and $h_{\\theta}(x) \\rightarrow 1$\n",
    "\n",
    "$Cost(h_{\\theta}(x),y) \\rightarrow \\infty$ if $y=1$ and $h_{\\theta}(x) \\rightarrow 0$\n",
    "<img src=./images/logreg_cf.jpg> If our correct answer $y$ is 0, then the cost function will be 0 if our hypothesis function also outputs 0. If our hypothesis approaches 1, then the cost function will approach infinity.\n",
    "\n",
    "If our correct answer $y$ is 1, then the cost function will be 0 if our hypothesis function outputs 1. If our hypothesis approaches 0, then the cost function will approach infinity.\n",
    "\n",
    "Note that writing the cost function in this way guarantees that $J(\\theta)$ is convex for logistic regression.\n",
    "\n",
    "# Cost Function with Regularization and its Gradient\n",
    "<b>Cost function</b>\n",
    "The function is also called Binary Cross Entropy\n",
    "\n",
    "$$J(\\theta)=-\\frac{1}{2m} \\sum_{i=1}^{m}[y^{(i)}log(h_{\\theta}(x^{(i)})) + (1-y^{(i)})log(1-h_{\\theta}(x^{(i)}))]+\\frac{\\lambda}{2m}\\theta^{2}$$\n",
    "\n",
    "<b>Cost function in vectorized form</b>\n",
    "\n",
    "$$h=\\sigma(X\\theta)$$\n",
    "\n",
    "$$J(\\theta)=-\\frac{1}{2m}(y^{T}log(h)+(1-y)^{T}log(1-h))+\\frac{\\lambda}{2m}\\theta^{2}$$"
   ]
  },
  {
   "cell_type": "code",
   "execution_count": 15,
   "metadata": {
    "nbpresent": {
     "id": "d6992cde-c0fd-49ce-9618-76e0e8d83da0"
    }
   },
   "outputs": [],
   "source": [
    "def costFunction(theta, X, y, lambda_reg):\n",
    "    m = len(y)\n",
    "    J = 0\n",
    "    one = y * np.transpose(np.log( sigmoid( np.dot(X,theta) ) ))\n",
    "    two = (1-y) * np.transpose(np.log( 1 - sigmoid( np.dot(X,theta) ) ))\n",
    "    reg = ( float(lambda_reg) / (2*m)) * np.power(theta[1:theta.shape[0]],2).sum()\n",
    "    J = -(1./m)*(one+two).sum() + reg\n",
    "    return J "
   ]
  },
  {
   "cell_type": "markdown",
   "metadata": {
    "nbpresent": {
     "id": "e243d610-8541-4625-93a9-f15d6d8e80fe"
    }
   },
   "source": [
    "# Feature Engineering\n",
    "\n",
    "When the different class of data is linearly separable (separable using a stright line) the out of the box regression algorithms will work fine. However, when the data is not linearly separable, then regression technique will do a poor job. A clever analyst will look at the data, identify the trends and patterns and engineer new input features that will lead to a better classification of data. The function below engineers new polynomial features of a particular degree."
   ]
  },
  {
   "cell_type": "code",
   "execution_count": 16,
   "metadata": {
    "nbpresent": {
     "id": "7033c151-bc32-42f0-a995-eb300c60a738"
    }
   },
   "outputs": [],
   "source": [
    "def mapFeature(X1, X2, degree):\n",
    "    out = np.ones(( X1.shape[0], sum(range(degree + 2)) )) # could also use ((degree+1) * (degree+2)) / 2 instead of sum\n",
    "    curr_column = 1\n",
    "    for i in range(1, degree + 1):\n",
    "        for j in range(i+1):\n",
    "            out[:,curr_column] = np.power(X1,i-j) * np.power(X2,j)\n",
    "            curr_column += 1\n",
    "    return out"
   ]
  },
  {
   "cell_type": "markdown",
   "metadata": {
    "nbpresent": {
     "id": "13ed920d-8200-4e08-bb66-7042d58ca07b"
    }
   },
   "source": [
    "# Plotting Decision Boundaries"
   ]
  },
  {
   "cell_type": "code",
   "execution_count": 17,
   "metadata": {
    "nbpresent": {
     "id": "809cece4-e63a-4ff9-9168-2f9ad3d498cd"
    }
   },
   "outputs": [],
   "source": [
    "def plotDecisionBoundary(theta, X, y,degree=1):\n",
    "    plt, p1, p2 = plotData(X[:,1:3], y)\n",
    "    if X.shape[1] <= 3:\n",
    "        # Only need 2 points to define a line, so choose two endpoints\n",
    "        plot_x = np.array([min(X[:,1])-2,  max(X[:,1])+2])\n",
    "        # Calculate the decision boundary line\n",
    "        plot_y = (-1./theta[2])*(theta[1]*plot_x + theta[0])\n",
    "        # Plot, and adjust axes for better viewing\n",
    "        p3 = plt.plot(plot_x, plot_y)\n",
    "        # Legend, specific for the exercise\n",
    "        plt.legend((p1, p2, p3[0]), ('Admitted', 'Not Admitted', 'Decision Boundary'), numpoints=1, handlelength=0.5)\n",
    "        plt.axis([30, 100, 30, 100])\n",
    "        plt.show(block=False)\n",
    "    else:\n",
    "        # Here is the grid range\n",
    "        u = np.linspace(-1, 1.5, 50)\n",
    "        v = np.linspace(-1, 1.5, 50)\n",
    "\n",
    "        z = np.zeros(( len(u), len(v) ))\n",
    "        # Evaluate z = theta*x over the grid\n",
    "        for i in range(len(u)):\n",
    "            for j in range(len(v)):\n",
    "                z[i,j] = np.dot(mapFeature(np.array([u[i]]), np.array([v[j]]),degree),theta)\n",
    "        z = np.transpose(z) # important to transpose z before calling contour\n",
    "\n",
    "        # Plot z = 0\n",
    "        # Notice you need to specify the level 0\n",
    "        # we get collections[0] so that we can display a legend properly\n",
    "        p3 = plt.contour(u, v, z, levels=[0], linewidth=2).collections[0]\n",
    "        \n",
    "        # Legend, specific for the exercise\n",
    "        plt.legend((p1,p2, p3),('y = 1', 'y = 0', 'Decision Boundary'), numpoints=1, handlelength=0)\n",
    "        #plt.show(block=False)"
   ]
  },
  {
   "cell_type": "code",
   "execution_count": 18,
   "metadata": {
    "nbpresent": {
     "id": "358572b4-8055-449b-a65c-fb8afdf217b5"
    }
   },
   "outputs": [],
   "source": [
    "def predict(theta, X):\n",
    "    m = X.shape[0]\n",
    "    p = np.zeros((m, 1))\n",
    "    sigValue = sigmoid( np.dot(X,theta) )\n",
    "    p = sigValue >= 0.5\n",
    "    return p"
   ]
  },
  {
   "cell_type": "markdown",
   "metadata": {
    "nbpresent": {
     "id": "08b5437b-793b-4e8a-b8fd-889aac388525"
    }
   },
   "source": [
    "# Problem Set 1\n",
    "The data file consists of three columns. The first two columns gives the test score of two exams taken by 100 students and the third column tells if the student was admitted (1) or not (0) admitted to a particular college. Notice that the data is linearly separable.\n",
    "\n",
    "<b>Recommended Excerscise</b>\n",
    "* Try regularization (changing the value of $\\lambda_{reg}$)\n",
    "* Try to engineer new features and then run the regression to see if the decision boundaries improves classification."
   ]
  },
  {
   "cell_type": "code",
   "execution_count": 19,
   "metadata": {
    "nbpresent": {
     "id": "1472c959-41d7-4a43-abba-2af65fcca621"
    }
   },
   "outputs": [],
   "source": [
    "data = np.loadtxt('./data/admission.csv', delimiter=\",\")\n",
    "X = data[:,:2]\n",
    "y = data[:,2]"
   ]
  },
  {
   "cell_type": "code",
   "execution_count": 20,
   "metadata": {
    "nbpresent": {
     "id": "650d49e9-5176-437e-82bc-5c46e043b2ef"
    }
   },
   "outputs": [
    {
     "name": "stdout",
     "output_type": "stream",
     "text": [
      "Plotting data with + indicating (y = 1) examples and o indicating (y = 0) examples.\n"
     ]
    },
    {
     "data": {
      "image/png": "[encoded data removed]",
      "text/plain": [
       "<Figure size 432x288 with 1 Axes>"
      ]
     },
     "metadata": {},
     "output_type": "display_data"
    }
   ],
   "source": [
    "print('Plotting data with + indicating (y = 1) examples and o indicating (y = 0) examples.')\n",
    "plt, p1, p2 = plotData(X, y)\n",
    "plt.xlabel('Exam 1 score')\n",
    "plt.ylabel('Exam 2 score')\n",
    "plt.legend((p1, p2), ('Admitted', 'Not Admitted'), numpoints=1, handlelength=0)\n",
    "plt.show() "
   ]
  },
  {
   "cell_type": "code",
   "execution_count": 21,
   "metadata": {
    "nbpresent": {
     "id": "e4d64f98-05e3-4829-85f1-bf6361314935"
    }
   },
   "outputs": [
    {
     "name": "stdout",
     "output_type": "stream",
     "text": [
      "Cost at initial theta (zeros): 0.693147\n"
     ]
    }
   ],
   "source": [
    "m,n = X.shape\n",
    "X_padded = np.column_stack((np.ones((m,1)), X)) \n",
    "initial_theta = np.zeros((n+1, 1))\n",
    "cost = costFunction(initial_theta, X_padded, y, 0)\n",
    "print('Cost at initial theta (zeros): {:f}'.format(cost))"
   ]
  },
  {
   "cell_type": "code",
   "execution_count": 22,
   "metadata": {
    "nbpresent": {
     "id": "7e811366-d90d-40db-8c8c-50456ec685c7"
    }
   },
   "outputs": [
    {
     "name": "stdout",
     "output_type": "stream",
     "text": [
      "Optimization terminated successfully.\n",
      "         Current function value: 0.203498\n",
      "         Iterations: 157\n",
      "         Function evaluations: 287\n",
      "Optimization terminated successfully.\n",
      "         Current function value: 0.203498\n",
      "         Iterations: 1\n",
      "         Function evaluations: 15\n",
      "         Gradient evaluations: 3\n",
      "Cost at theta found by fmin: 0.203498\n",
      "theta:\n",
      "[-25.16130062   0.20623139   0.20147139]\n"
     ]
    },
    {
     "data": {
      "image/png": "[encoded data removed]",
      "text/plain": [
       "<Figure size 432x288 with 1 Axes>"
      ]
     },
     "metadata": {},
     "output_type": "display_data"
    }
   ],
   "source": [
    "lambda_reg=0.0\n",
    "myargs=(X_padded, y,lambda_reg)\n",
    "theta = fmin(costFunction, x0=initial_theta, args=myargs)\n",
    "theta, cost_at_theta, _, _, _, _, _ = fmin_bfgs(costFunction, x0=theta, args=myargs, full_output=True)\n",
    "print('Cost at theta found by fmin: {:f}'.format(cost_at_theta))\n",
    "print('theta:'),\n",
    "print(theta)\n",
    "plotDecisionBoundary(theta, X_padded, y,degree=1)\n",
    "plt.show() "
   ]
  },
  {
   "cell_type": "markdown",
   "metadata": {
    "nbpresent": {
     "id": "3d85eb3f-2648-4431-a9ff-2ef25a332ae3"
    }
   },
   "source": [
    "# Problem set 2\n",
    "The data file consists of three columns. The first two columns give measurements from two quality assurace tests and the third colums include information if the chip was ok (1) or not (0). Notice that the two class of data is not linearly separable and hence we will have to engineer new features. "
   ]
  },
  {
   "cell_type": "code",
   "execution_count": 23,
   "metadata": {
    "nbpresent": {
     "id": "5f9ff0e3-6af2-402c-84f7-4bdb017dfb16"
    }
   },
   "outputs": [
    {
     "data": {
      "image/png": "[encoded data removed]",
      "text/plain": [
       "<Figure size 432x288 with 1 Axes>"
      ]
     },
     "metadata": {},
     "output_type": "display_data"
    }
   ],
   "source": [
    "data = np.loadtxt('./data/microchip.csv', delimiter=\",\")\n",
    "X = data[:,:2]\n",
    "y = data[:,2]\n",
    "plt, p1, p2 = plotData(X, y)\n",
    "plt.xlabel('Microchip Test 1')\n",
    "plt.ylabel('Microchip Test 2')\n",
    "plt.legend((p1, p2), ('y = 1', 'y = 0'), numpoints=1, handlelength=0)\n",
    "plt.show()"
   ]
  },
  {
   "cell_type": "markdown",
   "metadata": {},
   "source": [
    "How to classify the above data into two categories ?"
   ]
  },
  {
   "cell_type": "code",
   "execution_count": null,
   "metadata": {},
   "outputs": [],
   "source": []
  }
 ],
 "metadata": {
  "kernelspec": {
   "display_name": "Python 3",
   "language": "python",
   "name": "python3"
  },
  "language_info": {
   "codemirror_mode": {
    "name": "ipython",
    "version": 3
   },
   "file_extension": ".py",
   "mimetype": "text/x-python",
   "name": "python",
   "nbconvert_exporter": "python",
   "pygments_lexer": "ipython3",
   "version": "3.6.6"
  }
 },
 "nbformat": 4,
 "nbformat_minor": 2
}
