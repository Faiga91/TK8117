{
 "cells": [
  {
   "cell_type": "markdown",
   "metadata": {
    "nbpresent": {
     "id": "7b3e85cc-6d8c-457b-92c2-f9b4a5db5ea7"
    }
   },
   "source": [
    "# LINEAR REGRESSION\n",
    "<B>Objective:</B> To gets hands on experience on linear regression. \n",
    "* Cost Function for regression\n",
    "* Gradient Descent, Learning rates\n",
    "* Feature Normalization\n",
    "* Iterative method vs Direct Method for regression\n",
    "* Using scikit-learn library for regression\n",
    "* How to work with categorical variables / one hot encoding\n",
    "\n",
    "<B>Problem:</B> We will solve two set of problems \n",
    "1. Predicting house price\n",
    "2. Predicting weather station maintenence request counts"
   ]
  },
  {
   "cell_type": "markdown",
   "metadata": {
    "nbpresent": {
     "id": "fe04f45e-d175-47ff-a190-e26b301759f8"
    }
   },
   "source": [
    "# INTRODUCTION\n",
    "Linear Regression is a supervised machine learning algorithm where the predicted output is continuous and has a constant slope. Is used to predict values within a continuous range. (e.g. sales, price) \n",
    "\n",
    "<b>Simple Regression:</b> Simple linear regression uses traditional slope-intercept form, where $m$ and $b$ are the variables our algorithm will try to “learn” to produce the most accurate predictions. $x$ represents our input data and $y$ represents our prediction.\n",
    "\n",
    "$$\\hat {y}=\\theta_{1}x+\\theta_{0}$$\n",
    "\n",
    "In order to compute the values of $m$ and $b$ we need to minimize a cost function. In the case of Linear Regression it is given by\n",
    "\n",
    "$$J(\\theta) = \\frac{1}{2m}\\sum_{i=i}^{m}(\\hat {y}_{i}-y_{i})^{2}$$"
   ]
  },
  {
   "cell_type": "markdown",
   "metadata": {
    "nbpresent": {
     "id": "1665fadd-62d1-4ae2-9029-b60b887d7bd2"
    }
   },
   "source": [
    "<img src='./images/lr.jpg'>"
   ]
  },
  {
   "cell_type": "markdown",
   "metadata": {
    "nbpresent": {
     "id": "466cfbb4-6bd3-4a05-9038-f92fec3dbb64"
    }
   },
   "source": [
    "In multivariate regression we seek a set of parameters \n",
    "\n",
    "$$\\textbf{$\\Theta$} = [\\theta_{0} \\quad \\theta_{1} \\quad \\cdots \\quad \\theta_{i} \\quad \\cdots \\quad \\theta_{m}]^{T}$$\n",
    "               \n",
    "which minimizes the the cost function:\n",
    "Hypothesis \n",
    "$\\textbf{H}=\\textbf{X $\\Theta$}$\n",
    "\n",
    "Cost function is\n",
    "\n",
    "$$\\textbf{J($\\Theta$)}=\\frac{1}{2m}(\\textbf{X$\\Theta$} -\\textbf{Y})^{T}(\\textbf{X$\\Theta$} -\\textbf{Y})$$\n",
    "\n",
    "The advantages of Linear Regression are that they computationally efficient, simple and easy to interpret. However, the algorithm fails to capture non-linear behavior.\n"
   ]
  },
  {
   "cell_type": "code",
   "execution_count": 1,
   "metadata": {
    "nbpresent": {
     "id": "87c83cb1-3f39-439e-9504-7bd2d95f9827"
    }
   },
   "outputs": [],
   "source": [
    "import warnings\n",
    "warnings.filterwarnings('ignore')\n",
    "import numpy as np\n",
    "import matplotlib.pyplot as plt\n",
    "#from sklearn import datasets,linear_model"
   ]
  },
  {
   "cell_type": "markdown",
   "metadata": {
    "nbpresent": {
     "id": "aafc7a49-da40-49b6-b6ef-a95edf00e38c"
    }
   },
   "source": [
    "# Loading the data from a csv file\n",
    "The columns represent the surface area, number of rooms and the price of the apartment. "
   ]
  },
  {
   "cell_type": "code",
   "execution_count": 2,
   "metadata": {
    "nbpresent": {
     "id": "9944dfc3-6321-495e-9755-38b2095ff773"
    }
   },
   "outputs": [],
   "source": [
    "data = np.loadtxt('./data/housing_data.csv', delimiter=\",\")\n",
    "X = data[:,:2]\n",
    "y = data[:,2]\n",
    "m = len(y)"
   ]
  },
  {
   "cell_type": "markdown",
   "metadata": {
    "nbpresent": {
     "id": "a7fa7990-1006-44c4-8a00-ded0ffff1388"
    }
   },
   "source": [
    "# Data Exploration\n",
    "Plot the data and have a look\n",
    "Note the large difference in the scale of \"number of room variables\" and \"surface area\". \n",
    "* \"Number of room\" has a range [1.0,5.0]\n",
    "* \"Surface area\" has a range [500,4500]\n",
    "\n",
    "This causes problems during the cost minimization step (gradient descent)."
   ]
  },
  {
   "cell_type": "code",
   "execution_count": 3,
   "metadata": {
    "nbpresent": {
     "id": "8903ca68-8eb5-4e91-bded-4261d9db11e0"
    }
   },
   "outputs": [
    {
     "data": {
      "image/png": "[encoded data removed]",
      "text/plain": [
       "<Figure size 1152x576 with 2 Axes>"
      ]
     },
     "metadata": {},
     "output_type": "display_data"
    }
   ],
   "source": [
    "plt.figure(figsize=(16,8))\n",
    "plt.subplot(121)\n",
    "plt.scatter(X[:,1],y)\n",
    "plt.xlabel(\"Number of rooms\")\n",
    "plt.ylabel(\"Price of the apartment\")\n",
    "plt.title(\"Price of the apartment vs number of rooms\")\n",
    "plt.subplot(122)\n",
    "plt.scatter(X[:,0],y)\n",
    "plt.xlabel(\"Surface area\")\n",
    "plt.ylabel(\"Price of the apartment\")\n",
    "plt.title(\"Price of the apartment vs surface area\")\n",
    "plt.show()"
   ]
  },
  {
   "cell_type": "markdown",
   "metadata": {
    "nbpresent": {
     "id": "b9e5b2cd-16b7-4629-b96d-7b16a00bdd32"
    }
   },
   "source": [
    "# Feature normalization. \n",
    "The input feature vectors are normalized so that they have comparable scales.Here we do so by subtracting the mean and dividing by the standard deviation."
   ]
  },
  {
   "cell_type": "code",
   "execution_count": 4,
   "metadata": {
    "nbpresent": {
     "id": "a9df2cec-b0a0-4d12-90dd-233bf7bb6cb9"
    }
   },
   "outputs": [],
   "source": [
    "# Normalize features\n",
    "def featureNormalize(X):\n",
    "    X_norm = X.copy()\n",
    "    mu    = np.zeros((1, X.shape[1]))\n",
    "    sigma = np.zeros((1, X.shape[1]))\n",
    "    for i in range(X.shape[1]):\n",
    "        mu[:,i] = np.mean(X[:,i])\n",
    "        sigma[:,i] = np.std(X[:,i])\n",
    "        X_norm[:,i] = (X[:,i] - float(mu[:,i]))/float(sigma[:,i])\n",
    "    return X_norm, mu, sigma"
   ]
  },
  {
   "cell_type": "code",
   "execution_count": 5,
   "metadata": {
    "nbpresent": {
     "id": "3369e6d1-bb9d-4459-ba9a-b03cec4cad18"
    }
   },
   "outputs": [],
   "source": [
    "X_norm, mu, sigma = featureNormalize(X)"
   ]
  },
  {
   "cell_type": "code",
   "execution_count": 6,
   "metadata": {
    "nbpresent": {
     "id": "1a1d92f2-85d6-4155-b7a7-9472687511fa"
    }
   },
   "outputs": [
    {
     "data": {
      "image/png": "[encoded data removed]",
      "text/plain": [
       "<Figure size 1152x576 with 2 Axes>"
      ]
     },
     "metadata": {},
     "output_type": "display_data"
    }
   ],
   "source": [
    "plt.figure(figsize=(16,8))\n",
    "plt.subplot(121)\n",
    "plt.scatter(X_norm[:,1],y)\n",
    "plt.xlabel(\"Normalized number of rooms\")\n",
    "plt.ylabel(\"Price of the apartment\")\n",
    "plt.title(\"Price of the apartment vs normalized number of rooms\")\n",
    "plt.subplot(122)\n",
    "plt.scatter(X_norm[:,0],y)\n",
    "plt.xlabel(\"Normalized surface area\")\n",
    "plt.ylabel(\"Price of the apartment\")\n",
    "plt.title(\"Price of the apartment vs Normalized surface area\")\n",
    "plt.show()"
   ]
  },
  {
   "cell_type": "markdown",
   "metadata": {
    "nbpresent": {
     "id": "747ffd0f-6ae5-4ab2-9150-84fb4edcb28d"
    }
   },
   "source": [
    "# Bias Term\n",
    "We simply add a column vector of 1."
   ]
  },
  {
   "cell_type": "code",
   "execution_count": 7,
   "metadata": {
    "nbpresent": {
     "id": "688747bd-6eff-42e3-967f-d19dfec7f699"
    }
   },
   "outputs": [],
   "source": [
    "X_padded = np.column_stack((np.ones((m,1)), X_norm))"
   ]
  },
  {
   "cell_type": "markdown",
   "metadata": {
    "nbpresent": {
     "id": "5eb98a7e-2775-4a8b-bed1-f52f65e208ef"
    }
   },
   "source": [
    "# Cost Function involving multiple variables\n",
    "$$\\textbf{J($\\Theta$)}=\\frac{1}{2m}(\\textbf{X$\\Theta$} -\\textbf{Y})^{T}(\\textbf{X$\\Theta$} -\\textbf{Y})$$"
   ]
  },
  {
   "cell_type": "code",
   "execution_count": 8,
   "metadata": {
    "nbpresent": {
     "id": "2c52fdc0-678d-43d2-8847-a82fa5f5241a"
    }
   },
   "outputs": [],
   "source": [
    "def computeCost(X,y,theta): \n",
    "  m=len(y)\n",
    "  Cost=0.0;\n",
    "  Cost=1.0/2.0/m*np.sum((X.dot(theta)-y)**2);\n",
    "  Cost = \n",
    "  return Cost;"
   ]
  },
  {
   "cell_type": "markdown",
   "metadata": {
    "nbpresent": {
     "id": "320c5cec-f03b-4a99-8b71-7238e6fe7912"
    }
   },
   "source": [
    "# Batch Gradient Descent\n",
    "Minimize the loss function using gradient descent. \n",
    "<img src='images/gd.jpg'>"
   ]
  },
  {
   "cell_type": "code",
   "execution_count": 9,
   "metadata": {
    "nbpresent": {
     "id": "ff182988-667a-4139-9bfd-109acf432b1b"
    }
   },
   "outputs": [],
   "source": [
    "def gradientDescent(X, y, alpha, num_iters):\n",
    "    m,n = X.shape\n",
    "    theta = np.zeros((X.shape[1],1))\n",
    "    Cost_history = np.zeros((num_iters, 1))\n",
    "    for i in range(num_iters):\n",
    "        theta = theta - alpha*(1.0/m) * np.transpose(X).dot(X.dot(theta) - np.transpose([y]))    \n",
    "        Cost_history[i] = computeCost(X, y, theta)\n",
    "    return theta, Cost_history"
   ]
  },
  {
   "cell_type": "code",
   "execution_count": 10,
   "metadata": {
    "nbpresent": {
     "id": "381b8e0a-5f2d-4c91-a0c6-aa5b0a3f7c8d"
    }
   },
   "outputs": [],
   "source": [
    "def SolveGradientDescent(X,y,alpha, num_iters):\n",
    "    m,n=X.shape\n",
    "    theta, Loss_history = gradientDescent(X, y, alpha, num_iters)\n",
    "    plt.plot(range(Loss_history.size), Loss_history, \"-b\", linewidth=2 )\n",
    "    plt.xlabel('Number of iterations')\n",
    "    plt.ylabel('Cost')\n",
    "    plt.show(block=False)\n",
    "    theta.shape\n",
    "    return theta"
   ]
  },
  {
   "cell_type": "markdown",
   "metadata": {
    "nbpresent": {
     "id": "20369d13-ee07-4d87-9db2-097da02591fe"
    }
   },
   "source": [
    "# Evolution of the cost function\n",
    "Try solving the same problem but without feature normalization and convince yourself the importance of the step."
   ]
  },
  {
   "cell_type": "code",
   "execution_count": 11,
   "metadata": {
    "nbpresent": {
     "id": "8e9b08e2-94e0-4c90-b447-f06af07f7495"
    }
   },
   "outputs": [
    {
     "data": {
      "image/png": "[encoded data removed]",
      "text/plain": [
       "<Figure size 432x288 with 1 Axes>"
      ]
     },
     "metadata": {},
     "output_type": "display_data"
    },
    {
     "name": "stdout",
     "output_type": "stream",
     "text": [
      "Theta computed from gradient descent:  [[ 340199.36423635  106961.59217624   -4092.86897639]]\n"
     ]
    }
   ],
   "source": [
    "theta_GD=SolveGradientDescent(X=X_padded,y=y,alpha=0.1,num_iters=70)\n",
    "print('Theta computed from gradient descent: ',theta_GD.T)"
   ]
  },
  {
   "cell_type": "markdown",
   "metadata": {},
   "source": [
    "# Make predictions using the trained model\n",
    "Remember that the input features were normalized so we need to do the same with the new input features on which we want to make make predictions."
   ]
  },
  {
   "cell_type": "code",
   "execution_count": 12,
   "metadata": {},
   "outputs": [
    {
     "name": "stdout",
     "output_type": "stream",
     "text": [
      "Predicted price of a 1650 sq-ft, 3 br house (using gradient descent): [ 293415.1732852]\n"
     ]
    }
   ],
   "source": [
    "house_norm_padded = np.array([1, (1650-mu[0,0])/sigma[0,0], (3-mu[0,1])/sigma[0,1]])\n",
    "price_GD = np.array(house_norm_padded).dot(theta_GD)\n",
    "print(\"Predicted price of a 1650 sq-ft, 3 br house (using gradient descent):\", price_GD)"
   ]
  },
  {
   "cell_type": "markdown",
   "metadata": {
    "nbpresent": {
     "id": "c775c431-81d9-44c1-a80a-8d53b68d9d4e"
    }
   },
   "source": [
    "# Interpretability of the model\n",
    "The weights computed above corresponds to the normalized features and is given by.\n",
    "$\\hat{y}=\\theta_{0}+\\theta_{1}(\\frac{x_{1}-\\mu_{1}}{\\sigma_{1}})+\\theta_{2}(\\frac{x_{2}-\\mu_{2}}{\\sigma_{2}})$\n",
    "\n",
    "To interpret the model we should look at the weights corresponding to the actual features.\n",
    "$\\hat{y}=\\theta_{0}+\\theta_{1}x_{1}+\\theta_{2}x_{2}$, then the coefficients will be as follows"
   ]
  },
  {
   "cell_type": "code",
   "execution_count": 13,
   "metadata": {
    "nbpresent": {
     "id": "c0f0d00a-df4f-472a-b86f-1e57324a06cf"
    }
   },
   "outputs": [
    {
     "data": {
      "text/plain": [
       "(array([ 340192.60850789]), array([ 136.04837942]), array([ 142076.92613751]))"
      ]
     },
     "execution_count": 13,
     "metadata": {},
     "output_type": "execute_result"
    }
   ],
   "source": [
    "theta_GD[0]-mu[0,0]/sigma[0,0]-mu[0,1]/sigma[0,1],theta_GD[1]/sigma[0,0],theta_GD[1]/sigma[0,1]"
   ]
  },
  {
   "cell_type": "markdown",
   "metadata": {
    "nbpresent": {
     "id": "19ada4cb-adb8-48fd-820c-ae22acda0bc1"
    }
   },
   "source": [
    "What is your conclusion from the comparison of the weights ?"
   ]
  },
  {
   "cell_type": "markdown",
   "metadata": {
    "nbpresent": {
     "id": "3442efbf-ddaa-4cf7-a0cc-9cd91a34ec70"
    }
   },
   "source": [
    "# Example 2\n"
   ]
  },
  {
   "cell_type": "markdown",
   "metadata": {
    "nbpresent": {
     "id": "b2527714-7ef3-4184-879e-8f6dca38394b"
    }
   },
   "source": [
    "Data Description\n",
    "    \n",
    "* date : yyyy-mm-dd format\n",
    "* calendar_code : 0 or 1 (a code describing certain calendar events)\n",
    "* request_count : an integer (the number of support requests received on that date)\n",
    "* site_count : an integer (the number of sites operating on that date)\n",
    "* max_temp : a float (max temperature for that day in degrees Celsius)\n",
    "* min_temp : a float (min temperature for that day in degrees Celsius)\n",
    "* precipitation : a float (millimeters of precipitation on that date)\n",
    "* events : a string (description of weather events on that date)\n",
    "\n",
    "Our aim is to predict the request_count when the other paeameters are given."
   ]
  },
  {
   "cell_type": "code",
   "execution_count": 14,
   "metadata": {
    "nbpresent": {
     "id": "cf2f11ec-87e3-4d76-a55f-d760d0e0c918"
    }
   },
   "outputs": [],
   "source": [
    "import pandas as pd\n",
    "import numpy as np\n",
    "from sklearn.preprocessing import LabelEncoder, OneHotEncoder\n",
    "from sklearn.model_selection import train_test_split\n",
    "from sklearn import linear_model\n",
    "import matplotlib.pyplot as plt\n",
    "import seaborn as sns"
   ]
  },
  {
   "cell_type": "code",
   "execution_count": 15,
   "metadata": {
    "nbpresent": {
     "id": "e4280dcd-4a89-4053-a752-47a56d077200"
    }
   },
   "outputs": [
    {
     "data": {
      "text/html": [
       "<div>\n",
       "<style scoped>\n",
       "    .dataframe tbody tr th:only-of-type {\n",
       "        vertical-align: middle;\n",
       "    }\n",
       "\n",
       "    .dataframe tbody tr th {\n",
       "        vertical-align: top;\n",
       "    }\n",
       "\n",
       "    .dataframe thead th {\n",
       "        text-align: right;\n",
       "    }\n",
       "</style>\n",
       "<table border=\"1\" class=\"dataframe\">\n",
       "  <thead>\n",
       "    <tr style=\"text-align: right;\">\n",
       "      <th></th>\n",
       "      <th>date</th>\n",
       "      <th>calendar_code</th>\n",
       "      <th>request_count</th>\n",
       "      <th>site_count</th>\n",
       "      <th>max_temp</th>\n",
       "      <th>min_temp</th>\n",
       "      <th>precipitation</th>\n",
       "      <th>events</th>\n",
       "    </tr>\n",
       "  </thead>\n",
       "  <tbody>\n",
       "    <tr>\n",
       "      <th>0</th>\n",
       "      <td>2014-09-01</td>\n",
       "      <td>0.0</td>\n",
       "      <td>165</td>\n",
       "      <td>6</td>\n",
       "      <td>30.6</td>\n",
       "      <td>22.8</td>\n",
       "      <td>0.0</td>\n",
       "      <td>Rain</td>\n",
       "    </tr>\n",
       "    <tr>\n",
       "      <th>1</th>\n",
       "      <td>2014-09-02</td>\n",
       "      <td>1.0</td>\n",
       "      <td>138</td>\n",
       "      <td>7</td>\n",
       "      <td>32.8</td>\n",
       "      <td>22.8</td>\n",
       "      <td>15.5</td>\n",
       "      <td>Rain-Thunderstorm</td>\n",
       "    </tr>\n",
       "    <tr>\n",
       "      <th>2</th>\n",
       "      <td>2014-09-03</td>\n",
       "      <td>1.0</td>\n",
       "      <td>127</td>\n",
       "      <td>7</td>\n",
       "      <td>29.4</td>\n",
       "      <td>18.3</td>\n",
       "      <td>0.0</td>\n",
       "      <td>None</td>\n",
       "    </tr>\n",
       "    <tr>\n",
       "      <th>3</th>\n",
       "      <td>2014-09-04</td>\n",
       "      <td>1.0</td>\n",
       "      <td>174</td>\n",
       "      <td>7</td>\n",
       "      <td>29.4</td>\n",
       "      <td>17.2</td>\n",
       "      <td>0.0</td>\n",
       "      <td>None</td>\n",
       "    </tr>\n",
       "    <tr>\n",
       "      <th>4</th>\n",
       "      <td>2014-09-05</td>\n",
       "      <td>1.0</td>\n",
       "      <td>196</td>\n",
       "      <td>7</td>\n",
       "      <td>30.6</td>\n",
       "      <td>21.7</td>\n",
       "      <td>0.0</td>\n",
       "      <td>Fog</td>\n",
       "    </tr>\n",
       "  </tbody>\n",
       "</table>\n",
       "</div>"
      ],
      "text/plain": [
       "        date  calendar_code  request_count  site_count  max_temp  min_temp  \\\n",
       "0 2014-09-01            0.0            165           6      30.6      22.8   \n",
       "1 2014-09-02            1.0            138           7      32.8      22.8   \n",
       "2 2014-09-03            1.0            127           7      29.4      18.3   \n",
       "3 2014-09-04            1.0            174           7      29.4      17.2   \n",
       "4 2014-09-05            1.0            196           7      30.6      21.7   \n",
       "\n",
       "   precipitation             events  \n",
       "0            0.0               Rain  \n",
       "1           15.5  Rain-Thunderstorm  \n",
       "2            0.0               None  \n",
       "3            0.0               None  \n",
       "4            0.0                Fog  "
      ]
     },
     "execution_count": 15,
     "metadata": {},
     "output_type": "execute_result"
    }
   ],
   "source": [
    "#ALso remember to parse the date column. This will be helpful in the next step\n",
    "training_data=pd.read_csv('./data/Met_train.csv',sep=',',parse_dates=['date'])\n",
    "training_data.head()"
   ]
  },
  {
   "cell_type": "markdown",
   "metadata": {
    "nbpresent": {
     "id": "523e648c-cdc6-4afe-ace4-977cd8ac3a53"
    }
   },
   "source": [
    "# Data Exploration"
   ]
  },
  {
   "cell_type": "code",
   "execution_count": 16,
   "metadata": {
    "nbpresent": {
     "id": "12a2705c-6c2c-4156-beac-bbc0068d80e3"
    }
   },
   "outputs": [
    {
     "data": {
      "image/png": "[encoded data removed]",
      "text/plain": [
       "<Figure size 1152x288 with 1 Axes>"
      ]
     },
     "metadata": {},
     "output_type": "display_data"
    },
    {
     "data": {
      "image/png": "[encoded data removed]",
      "text/plain": [
       "<Figure size 1152x288 with 1 Axes>"
      ]
     },
     "metadata": {},
     "output_type": "display_data"
    },
    {
     "data": {
      "image/png": "[encoded data removed]",
      "text/plain": [
       "<Figure size 1152x288 with 1 Axes>"
      ]
     },
     "metadata": {},
     "output_type": "display_data"
    }
   ],
   "source": [
    "training_data.hist('max_temp',weights=training_data['request_count'],figsize=(16,4))\n",
    "training_data.hist('min_temp',weights=training_data['request_count'],figsize=(16,4))\n",
    "training_data.hist('precipitation',weights=training_data['request_count'],figsize=(16,4))\n",
    "plt.show()"
   ]
  },
  {
   "cell_type": "markdown",
   "metadata": {
    "nbpresent": {
     "id": "30834621-aea1-453c-8a8a-c0e3c4a3d89f"
    }
   },
   "source": [
    "\n",
    "From the above histograms we see that most of the request comes when \n",
    "1. maximum temperature is below 10C \n",
    "2. min temperature is below 2C \n",
    "3. When there is zero precipitation\n",
    "\n",
    "We use violin plot for dependence on the categorical variables (https://blog.modeanalytics.com/violin-plot-examples/)"
   ]
  },
  {
   "cell_type": "code",
   "execution_count": 17,
   "metadata": {
    "nbpresent": {
     "id": "2e9d4336-e7af-417a-a345-a3260810a6c4"
    }
   },
   "outputs": [
    {
     "data": {
      "image/png": "[encoded data removed]",
      "text/plain": [
       "<Figure size 1152x432 with 1 Axes>"
      ]
     },
     "metadata": {},
     "output_type": "display_data"
    }
   ],
   "source": [
    "var_name = \"events\"\n",
    "col_order = np.sort(training_data[var_name].unique()).tolist()\n",
    "plt.figure(figsize=(16,6))\n",
    "sns.violinplot(x=var_name, y='request_count', data=training_data, order=col_order)\n",
    "plt.xlabel(var_name, fontsize=12)\n",
    "plt.ylabel('y', fontsize=12)\n",
    "plt.title(\"Distribution of request count with \"+var_name, fontsize=15)\n",
    "plt.show()"
   ]
  },
  {
   "cell_type": "code",
   "execution_count": 18,
   "metadata": {
    "nbpresent": {
     "id": "8eeab993-43e2-4d20-bb94-e3f2a606e416"
    }
   },
   "outputs": [
    {
     "data": {
      "image/png": "[encoded data removed]",
      "text/plain": [
       "<Figure size 1152x432 with 1 Axes>"
      ]
     },
     "metadata": {},
     "output_type": "display_data"
    }
   ],
   "source": [
    "var_name = \"calendar_code\"\n",
    "col_order = np.sort(training_data[var_name].unique()).tolist()\n",
    "plt.figure(figsize=(16,6))\n",
    "sns.violinplot(x=var_name, y='request_count', data=training_data, order=col_order)\n",
    "plt.xlabel(var_name, fontsize=12)\n",
    "plt.ylabel('y', fontsize=12)\n",
    "plt.title(\"Distribution of request count with \"+var_name, fontsize=15)\n",
    "plt.show()"
   ]
  },
  {
   "cell_type": "code",
   "execution_count": 19,
   "metadata": {
    "nbpresent": {
     "id": "a90252e8-7565-40a8-8cbe-3aa1da57c8c2"
    }
   },
   "outputs": [
    {
     "data": {
      "text/html": [
       "<div>\n",
       "<style scoped>\n",
       "    .dataframe tbody tr th:only-of-type {\n",
       "        vertical-align: middle;\n",
       "    }\n",
       "\n",
       "    .dataframe tbody tr th {\n",
       "        vertical-align: top;\n",
       "    }\n",
       "\n",
       "    .dataframe thead th {\n",
       "        text-align: right;\n",
       "    }\n",
       "</style>\n",
       "<table border=\"1\" class=\"dataframe\">\n",
       "  <thead>\n",
       "    <tr style=\"text-align: right;\">\n",
       "      <th></th>\n",
       "      <th>date</th>\n",
       "      <th>calendar_code</th>\n",
       "      <th>request_count</th>\n",
       "      <th>site_count</th>\n",
       "      <th>max_temp</th>\n",
       "      <th>min_temp</th>\n",
       "      <th>precipitation</th>\n",
       "      <th>events</th>\n",
       "      <th>day_of_week</th>\n",
       "      <th>week_day</th>\n",
       "    </tr>\n",
       "  </thead>\n",
       "  <tbody>\n",
       "    <tr>\n",
       "      <th>0</th>\n",
       "      <td>2014-09-01</td>\n",
       "      <td>0.0</td>\n",
       "      <td>165</td>\n",
       "      <td>6</td>\n",
       "      <td>30.6</td>\n",
       "      <td>22.8</td>\n",
       "      <td>0.0</td>\n",
       "      <td>Rain</td>\n",
       "      <td>0</td>\n",
       "      <td>Monday</td>\n",
       "    </tr>\n",
       "    <tr>\n",
       "      <th>1</th>\n",
       "      <td>2014-09-02</td>\n",
       "      <td>1.0</td>\n",
       "      <td>138</td>\n",
       "      <td>7</td>\n",
       "      <td>32.8</td>\n",
       "      <td>22.8</td>\n",
       "      <td>15.5</td>\n",
       "      <td>Rain-Thunderstorm</td>\n",
       "      <td>1</td>\n",
       "      <td>Tuesday</td>\n",
       "    </tr>\n",
       "    <tr>\n",
       "      <th>2</th>\n",
       "      <td>2014-09-03</td>\n",
       "      <td>1.0</td>\n",
       "      <td>127</td>\n",
       "      <td>7</td>\n",
       "      <td>29.4</td>\n",
       "      <td>18.3</td>\n",
       "      <td>0.0</td>\n",
       "      <td>None</td>\n",
       "      <td>2</td>\n",
       "      <td>Wednesday</td>\n",
       "    </tr>\n",
       "    <tr>\n",
       "      <th>3</th>\n",
       "      <td>2014-09-04</td>\n",
       "      <td>1.0</td>\n",
       "      <td>174</td>\n",
       "      <td>7</td>\n",
       "      <td>29.4</td>\n",
       "      <td>17.2</td>\n",
       "      <td>0.0</td>\n",
       "      <td>None</td>\n",
       "      <td>3</td>\n",
       "      <td>Thursday</td>\n",
       "    </tr>\n",
       "    <tr>\n",
       "      <th>4</th>\n",
       "      <td>2014-09-05</td>\n",
       "      <td>1.0</td>\n",
       "      <td>196</td>\n",
       "      <td>7</td>\n",
       "      <td>30.6</td>\n",
       "      <td>21.7</td>\n",
       "      <td>0.0</td>\n",
       "      <td>Fog</td>\n",
       "      <td>4</td>\n",
       "      <td>Friday</td>\n",
       "    </tr>\n",
       "  </tbody>\n",
       "</table>\n",
       "</div>"
      ],
      "text/plain": [
       "        date  calendar_code  request_count  site_count  max_temp  min_temp  \\\n",
       "0 2014-09-01            0.0            165           6      30.6      22.8   \n",
       "1 2014-09-02            1.0            138           7      32.8      22.8   \n",
       "2 2014-09-03            1.0            127           7      29.4      18.3   \n",
       "3 2014-09-04            1.0            174           7      29.4      17.2   \n",
       "4 2014-09-05            1.0            196           7      30.6      21.7   \n",
       "\n",
       "   precipitation             events  day_of_week   week_day  \n",
       "0            0.0               Rain            0     Monday  \n",
       "1           15.5  Rain-Thunderstorm            1    Tuesday  \n",
       "2            0.0               None            2  Wednesday  \n",
       "3            0.0               None            3   Thursday  \n",
       "4            0.0                Fog            4     Friday  "
      ]
     },
     "execution_count": 19,
     "metadata": {},
     "output_type": "execute_result"
    }
   ],
   "source": [
    "training_data['day_of_week'] = training_data['date'].dt.dayofweek\n",
    "training_data['week_day'] = training_data['date'].dt.weekday_name\n",
    "training_data.head()"
   ]
  },
  {
   "cell_type": "code",
   "execution_count": 20,
   "metadata": {
    "nbpresent": {
     "id": "549f13db-4272-4c5f-8a9a-2fa573938735"
    }
   },
   "outputs": [
    {
     "data": {
      "image/png": "[encoded data removed]",
      "text/plain": [
       "<Figure size 1152x432 with 1 Axes>"
      ]
     },
     "metadata": {},
     "output_type": "display_data"
    }
   ],
   "source": [
    "var_name = \"week_day\"\n",
    "col_order = np.sort(training_data[var_name].unique()).tolist()\n",
    "plt.figure(figsize=(16,6))\n",
    "sns.violinplot(x=var_name, y='request_count', data=training_data, order=col_order)\n",
    "plt.xlabel(var_name, fontsize=12)\n",
    "plt.ylabel('y', fontsize=12)\n",
    "plt.title(\"Distribution of request count with \"+var_name, fontsize=15)\n",
    "plt.show()"
   ]
  },
  {
   "cell_type": "markdown",
   "metadata": {
    "nbpresent": {
     "id": "637985b9-d021-4ce7-bb6f-00d72261d051"
    }
   },
   "source": [
    "# Dealing with categorical variables\n",
    "In most of the machine learning algorithms barringa a few (ex. Decision Tree) we need numerical values for the input features. In the current data events are categorical variable which should be converted into a unique numerical identifiers. This will result in an additional column \"events_code\""
   ]
  },
  {
   "cell_type": "code",
   "execution_count": 21,
   "metadata": {
    "nbpresent": {
     "id": "755540bc-e78a-4116-a940-b0dc8e8b1890"
    }
   },
   "outputs": [
    {
     "data": {
      "text/html": [
       "<div>\n",
       "<style scoped>\n",
       "    .dataframe tbody tr th:only-of-type {\n",
       "        vertical-align: middle;\n",
       "    }\n",
       "\n",
       "    .dataframe tbody tr th {\n",
       "        vertical-align: top;\n",
       "    }\n",
       "\n",
       "    .dataframe thead th {\n",
       "        text-align: right;\n",
       "    }\n",
       "</style>\n",
       "<table border=\"1\" class=\"dataframe\">\n",
       "  <thead>\n",
       "    <tr style=\"text-align: right;\">\n",
       "      <th></th>\n",
       "      <th>date</th>\n",
       "      <th>calendar_code</th>\n",
       "      <th>request_count</th>\n",
       "      <th>site_count</th>\n",
       "      <th>max_temp</th>\n",
       "      <th>min_temp</th>\n",
       "      <th>precipitation</th>\n",
       "      <th>events</th>\n",
       "      <th>day_of_week</th>\n",
       "      <th>week_day</th>\n",
       "      <th>events_code</th>\n",
       "    </tr>\n",
       "  </thead>\n",
       "  <tbody>\n",
       "    <tr>\n",
       "      <th>0</th>\n",
       "      <td>2014-09-01</td>\n",
       "      <td>0.0</td>\n",
       "      <td>165</td>\n",
       "      <td>6</td>\n",
       "      <td>30.6</td>\n",
       "      <td>22.8</td>\n",
       "      <td>0.0</td>\n",
       "      <td>Rain</td>\n",
       "      <td>0</td>\n",
       "      <td>Monday</td>\n",
       "      <td>5</td>\n",
       "    </tr>\n",
       "    <tr>\n",
       "      <th>1</th>\n",
       "      <td>2014-09-02</td>\n",
       "      <td>1.0</td>\n",
       "      <td>138</td>\n",
       "      <td>7</td>\n",
       "      <td>32.8</td>\n",
       "      <td>22.8</td>\n",
       "      <td>15.5</td>\n",
       "      <td>Rain-Thunderstorm</td>\n",
       "      <td>1</td>\n",
       "      <td>Tuesday</td>\n",
       "      <td>7</td>\n",
       "    </tr>\n",
       "    <tr>\n",
       "      <th>2</th>\n",
       "      <td>2014-09-03</td>\n",
       "      <td>1.0</td>\n",
       "      <td>127</td>\n",
       "      <td>7</td>\n",
       "      <td>29.4</td>\n",
       "      <td>18.3</td>\n",
       "      <td>0.0</td>\n",
       "      <td>None</td>\n",
       "      <td>2</td>\n",
       "      <td>Wednesday</td>\n",
       "      <td>4</td>\n",
       "    </tr>\n",
       "    <tr>\n",
       "      <th>3</th>\n",
       "      <td>2014-09-04</td>\n",
       "      <td>1.0</td>\n",
       "      <td>174</td>\n",
       "      <td>7</td>\n",
       "      <td>29.4</td>\n",
       "      <td>17.2</td>\n",
       "      <td>0.0</td>\n",
       "      <td>None</td>\n",
       "      <td>3</td>\n",
       "      <td>Thursday</td>\n",
       "      <td>4</td>\n",
       "    </tr>\n",
       "    <tr>\n",
       "      <th>4</th>\n",
       "      <td>2014-09-05</td>\n",
       "      <td>1.0</td>\n",
       "      <td>196</td>\n",
       "      <td>7</td>\n",
       "      <td>30.6</td>\n",
       "      <td>21.7</td>\n",
       "      <td>0.0</td>\n",
       "      <td>Fog</td>\n",
       "      <td>4</td>\n",
       "      <td>Friday</td>\n",
       "      <td>0</td>\n",
       "    </tr>\n",
       "  </tbody>\n",
       "</table>\n",
       "</div>"
      ],
      "text/plain": [
       "        date  calendar_code  request_count  site_count  max_temp  min_temp  \\\n",
       "0 2014-09-01            0.0            165           6      30.6      22.8   \n",
       "1 2014-09-02            1.0            138           7      32.8      22.8   \n",
       "2 2014-09-03            1.0            127           7      29.4      18.3   \n",
       "3 2014-09-04            1.0            174           7      29.4      17.2   \n",
       "4 2014-09-05            1.0            196           7      30.6      21.7   \n",
       "\n",
       "   precipitation             events  day_of_week   week_day  events_code  \n",
       "0            0.0               Rain            0     Monday            5  \n",
       "1           15.5  Rain-Thunderstorm            1    Tuesday            7  \n",
       "2            0.0               None            2  Wednesday            4  \n",
       "3            0.0               None            3   Thursday            4  \n",
       "4            0.0                Fog            4     Friday            0  "
      ]
     },
     "execution_count": 21,
     "metadata": {},
     "output_type": "execute_result"
    }
   ],
   "source": [
    "training_data['events_code'] = pd.Categorical(training_data[\"events\"]).codes\n",
    "training_data.head()"
   ]
  },
  {
   "cell_type": "markdown",
   "metadata": {
    "nbpresent": {
     "id": "bb51380d-15e3-4720-ae6e-62eec2b7fb4a"
    }
   },
   "source": [
    "Since request count is the target variable, we store it separately as \"y\""
   ]
  },
  {
   "cell_type": "code",
   "execution_count": 22,
   "metadata": {
    "nbpresent": {
     "id": "e6a2e6dd-3b54-4afb-980f-b8da90407f05"
    }
   },
   "outputs": [],
   "source": [
    "y=training_data[\"request_count\"]"
   ]
  },
  {
   "cell_type": "markdown",
   "metadata": {
    "nbpresent": {
     "id": "f8170ebb-7a6f-4c13-b2a0-b8b5951b626a"
    }
   },
   "source": [
    "Drop the redundant columns now \"date\",\"events\",\"request_count\""
   ]
  },
  {
   "cell_type": "code",
   "execution_count": 23,
   "metadata": {
    "nbpresent": {
     "id": "51963bb4-6cbd-406b-af3e-59f4c1b4313c"
    }
   },
   "outputs": [
    {
     "data": {
      "text/html": [
       "<div>\n",
       "<style scoped>\n",
       "    .dataframe tbody tr th:only-of-type {\n",
       "        vertical-align: middle;\n",
       "    }\n",
       "\n",
       "    .dataframe tbody tr th {\n",
       "        vertical-align: top;\n",
       "    }\n",
       "\n",
       "    .dataframe thead th {\n",
       "        text-align: right;\n",
       "    }\n",
       "</style>\n",
       "<table border=\"1\" class=\"dataframe\">\n",
       "  <thead>\n",
       "    <tr style=\"text-align: right;\">\n",
       "      <th></th>\n",
       "      <th>calendar_code</th>\n",
       "      <th>site_count</th>\n",
       "      <th>max_temp</th>\n",
       "      <th>min_temp</th>\n",
       "      <th>precipitation</th>\n",
       "      <th>day_of_week</th>\n",
       "      <th>events_code</th>\n",
       "    </tr>\n",
       "  </thead>\n",
       "  <tbody>\n",
       "    <tr>\n",
       "      <th>0</th>\n",
       "      <td>0.0</td>\n",
       "      <td>6</td>\n",
       "      <td>30.6</td>\n",
       "      <td>22.8</td>\n",
       "      <td>0.0</td>\n",
       "      <td>0</td>\n",
       "      <td>5</td>\n",
       "    </tr>\n",
       "    <tr>\n",
       "      <th>1</th>\n",
       "      <td>1.0</td>\n",
       "      <td>7</td>\n",
       "      <td>32.8</td>\n",
       "      <td>22.8</td>\n",
       "      <td>15.5</td>\n",
       "      <td>1</td>\n",
       "      <td>7</td>\n",
       "    </tr>\n",
       "    <tr>\n",
       "      <th>2</th>\n",
       "      <td>1.0</td>\n",
       "      <td>7</td>\n",
       "      <td>29.4</td>\n",
       "      <td>18.3</td>\n",
       "      <td>0.0</td>\n",
       "      <td>2</td>\n",
       "      <td>4</td>\n",
       "    </tr>\n",
       "    <tr>\n",
       "      <th>3</th>\n",
       "      <td>1.0</td>\n",
       "      <td>7</td>\n",
       "      <td>29.4</td>\n",
       "      <td>17.2</td>\n",
       "      <td>0.0</td>\n",
       "      <td>3</td>\n",
       "      <td>4</td>\n",
       "    </tr>\n",
       "    <tr>\n",
       "      <th>4</th>\n",
       "      <td>1.0</td>\n",
       "      <td>7</td>\n",
       "      <td>30.6</td>\n",
       "      <td>21.7</td>\n",
       "      <td>0.0</td>\n",
       "      <td>4</td>\n",
       "      <td>0</td>\n",
       "    </tr>\n",
       "  </tbody>\n",
       "</table>\n",
       "</div>"
      ],
      "text/plain": [
       "   calendar_code  site_count  max_temp  min_temp  precipitation  day_of_week  \\\n",
       "0            0.0           6      30.6      22.8            0.0            0   \n",
       "1            1.0           7      32.8      22.8           15.5            1   \n",
       "2            1.0           7      29.4      18.3            0.0            2   \n",
       "3            1.0           7      29.4      17.2            0.0            3   \n",
       "4            1.0           7      30.6      21.7            0.0            4   \n",
       "\n",
       "   events_code  \n",
       "0            5  \n",
       "1            7  \n",
       "2            4  \n",
       "3            4  \n",
       "4            0  "
      ]
     },
     "execution_count": 23,
     "metadata": {},
     "output_type": "execute_result"
    }
   ],
   "source": [
    "training_data = training_data.drop([\"date\",\"events\",\"request_count\",\"week_day\"],axis=1)\n",
    "training_data.head()"
   ]
  },
  {
   "cell_type": "markdown",
   "metadata": {
    "nbpresent": {
     "id": "d6652d7a-2ca0-46a8-be57-04fac42d0ce9"
    }
   },
   "source": [
    "# One-Hot-Encoding\n",
    "The numerical values of day_of_week, events_code and calender code do not signify anything so they need to be one-hot-encoded to be used as a feature input vector."
   ]
  },
  {
   "cell_type": "code",
   "execution_count": 24,
   "metadata": {
    "nbpresent": {
     "id": "d83bc4dd-3733-4855-897d-5b16f7ac6223"
    }
   },
   "outputs": [
    {
     "data": {
      "text/html": [
       "<div>\n",
       "<style scoped>\n",
       "    .dataframe tbody tr th:only-of-type {\n",
       "        vertical-align: middle;\n",
       "    }\n",
       "\n",
       "    .dataframe tbody tr th {\n",
       "        vertical-align: top;\n",
       "    }\n",
       "\n",
       "    .dataframe thead th {\n",
       "        text-align: right;\n",
       "    }\n",
       "</style>\n",
       "<table border=\"1\" class=\"dataframe\">\n",
       "  <thead>\n",
       "    <tr style=\"text-align: right;\">\n",
       "      <th></th>\n",
       "      <th>site_count</th>\n",
       "      <th>max_temp</th>\n",
       "      <th>min_temp</th>\n",
       "      <th>precipitation</th>\n",
       "      <th>calendar_0.0</th>\n",
       "      <th>calendar_1.0</th>\n",
       "      <th>event_0</th>\n",
       "      <th>event_1</th>\n",
       "      <th>event_2</th>\n",
       "      <th>event_3</th>\n",
       "      <th>...</th>\n",
       "      <th>event_6</th>\n",
       "      <th>event_7</th>\n",
       "      <th>event_8</th>\n",
       "      <th>week_0</th>\n",
       "      <th>week_1</th>\n",
       "      <th>week_2</th>\n",
       "      <th>week_3</th>\n",
       "      <th>week_4</th>\n",
       "      <th>week_5</th>\n",
       "      <th>week_6</th>\n",
       "    </tr>\n",
       "  </thead>\n",
       "  <tbody>\n",
       "    <tr>\n",
       "      <th>0</th>\n",
       "      <td>6</td>\n",
       "      <td>30.6</td>\n",
       "      <td>22.8</td>\n",
       "      <td>0.0</td>\n",
       "      <td>1</td>\n",
       "      <td>0</td>\n",
       "      <td>0</td>\n",
       "      <td>0</td>\n",
       "      <td>0</td>\n",
       "      <td>0</td>\n",
       "      <td>...</td>\n",
       "      <td>0</td>\n",
       "      <td>0</td>\n",
       "      <td>0</td>\n",
       "      <td>1</td>\n",
       "      <td>0</td>\n",
       "      <td>0</td>\n",
       "      <td>0</td>\n",
       "      <td>0</td>\n",
       "      <td>0</td>\n",
       "      <td>0</td>\n",
       "    </tr>\n",
       "    <tr>\n",
       "      <th>1</th>\n",
       "      <td>7</td>\n",
       "      <td>32.8</td>\n",
       "      <td>22.8</td>\n",
       "      <td>15.5</td>\n",
       "      <td>0</td>\n",
       "      <td>1</td>\n",
       "      <td>0</td>\n",
       "      <td>0</td>\n",
       "      <td>0</td>\n",
       "      <td>0</td>\n",
       "      <td>...</td>\n",
       "      <td>0</td>\n",
       "      <td>1</td>\n",
       "      <td>0</td>\n",
       "      <td>0</td>\n",
       "      <td>1</td>\n",
       "      <td>0</td>\n",
       "      <td>0</td>\n",
       "      <td>0</td>\n",
       "      <td>0</td>\n",
       "      <td>0</td>\n",
       "    </tr>\n",
       "    <tr>\n",
       "      <th>2</th>\n",
       "      <td>7</td>\n",
       "      <td>29.4</td>\n",
       "      <td>18.3</td>\n",
       "      <td>0.0</td>\n",
       "      <td>0</td>\n",
       "      <td>1</td>\n",
       "      <td>0</td>\n",
       "      <td>0</td>\n",
       "      <td>0</td>\n",
       "      <td>0</td>\n",
       "      <td>...</td>\n",
       "      <td>0</td>\n",
       "      <td>0</td>\n",
       "      <td>0</td>\n",
       "      <td>0</td>\n",
       "      <td>0</td>\n",
       "      <td>1</td>\n",
       "      <td>0</td>\n",
       "      <td>0</td>\n",
       "      <td>0</td>\n",
       "      <td>0</td>\n",
       "    </tr>\n",
       "    <tr>\n",
       "      <th>3</th>\n",
       "      <td>7</td>\n",
       "      <td>29.4</td>\n",
       "      <td>17.2</td>\n",
       "      <td>0.0</td>\n",
       "      <td>0</td>\n",
       "      <td>1</td>\n",
       "      <td>0</td>\n",
       "      <td>0</td>\n",
       "      <td>0</td>\n",
       "      <td>0</td>\n",
       "      <td>...</td>\n",
       "      <td>0</td>\n",
       "      <td>0</td>\n",
       "      <td>0</td>\n",
       "      <td>0</td>\n",
       "      <td>0</td>\n",
       "      <td>0</td>\n",
       "      <td>1</td>\n",
       "      <td>0</td>\n",
       "      <td>0</td>\n",
       "      <td>0</td>\n",
       "    </tr>\n",
       "    <tr>\n",
       "      <th>4</th>\n",
       "      <td>7</td>\n",
       "      <td>30.6</td>\n",
       "      <td>21.7</td>\n",
       "      <td>0.0</td>\n",
       "      <td>0</td>\n",
       "      <td>1</td>\n",
       "      <td>1</td>\n",
       "      <td>0</td>\n",
       "      <td>0</td>\n",
       "      <td>0</td>\n",
       "      <td>...</td>\n",
       "      <td>0</td>\n",
       "      <td>0</td>\n",
       "      <td>0</td>\n",
       "      <td>0</td>\n",
       "      <td>0</td>\n",
       "      <td>0</td>\n",
       "      <td>0</td>\n",
       "      <td>1</td>\n",
       "      <td>0</td>\n",
       "      <td>0</td>\n",
       "    </tr>\n",
       "  </tbody>\n",
       "</table>\n",
       "<p>5 rows × 22 columns</p>\n",
       "</div>"
      ],
      "text/plain": [
       "   site_count  max_temp  min_temp  precipitation  calendar_0.0  calendar_1.0  \\\n",
       "0           6      30.6      22.8            0.0             1             0   \n",
       "1           7      32.8      22.8           15.5             0             1   \n",
       "2           7      29.4      18.3            0.0             0             1   \n",
       "3           7      29.4      17.2            0.0             0             1   \n",
       "4           7      30.6      21.7            0.0             0             1   \n",
       "\n",
       "   event_0  event_1  event_2  event_3   ...    event_6  event_7  event_8  \\\n",
       "0        0        0        0        0   ...          0        0        0   \n",
       "1        0        0        0        0   ...          0        1        0   \n",
       "2        0        0        0        0   ...          0        0        0   \n",
       "3        0        0        0        0   ...          0        0        0   \n",
       "4        1        0        0        0   ...          0        0        0   \n",
       "\n",
       "   week_0  week_1  week_2  week_3  week_4  week_5  week_6  \n",
       "0       1       0       0       0       0       0       0  \n",
       "1       0       1       0       0       0       0       0  \n",
       "2       0       0       1       0       0       0       0  \n",
       "3       0       0       0       1       0       0       0  \n",
       "4       0       0       0       0       1       0       0  \n",
       "\n",
       "[5 rows x 22 columns]"
      ]
     },
     "execution_count": 24,
     "metadata": {},
     "output_type": "execute_result"
    }
   ],
   "source": [
    "\n",
    "training_data= pd.get_dummies(training_data,columns=[\"calendar_code\",\"events_code\",\"day_of_week\"],prefix=[\"calendar\",\"event\",\"week\"])\n",
    "training_data.head()"
   ]
  },
  {
   "cell_type": "markdown",
   "metadata": {
    "nbpresent": {
     "id": "8ab7bf75-c66f-4286-96a1-1ae5bd001629"
    }
   },
   "source": [
    "Call the feature vectors X"
   ]
  },
  {
   "cell_type": "code",
   "execution_count": 25,
   "metadata": {
    "nbpresent": {
     "id": "ad8659c0-1c9e-40b4-8c50-6ab5880554c3"
    }
   },
   "outputs": [
    {
     "data": {
      "image/png": "[encoded data removed]",
      "text/plain": [
       "<Figure size 1152x576 with 3 Axes>"
      ]
     },
     "metadata": {},
     "output_type": "display_data"
    }
   ],
   "source": [
    "X=training_data.values\n",
    "plt.figure(figsize=(16,8))\n",
    "plt.subplot(131)\n",
    "plt.plot(X[:,0],y[:],'r.')\n",
    "plt.xlabel(\"No. of sites\")\n",
    "plt.ylabel(\"No. of requests\")\n",
    "plt.subplot(132)\n",
    "plt.plot((X[:,1]+X[:,2])/2.0,y[:],'r.')\n",
    "plt.xlabel(\"Mean temperature\")\n",
    "plt.ylabel(\"No. of requests\")\n",
    "plt.subplot(133)\n",
    "plt.plot(X[:,3],y[:],'r.')\n",
    "plt.xlabel(\"Precipitation\")\n",
    "plt.ylabel(\"No. of requests\")\n",
    "plt.show()"
   ]
  },
  {
   "cell_type": "markdown",
   "metadata": {
    "nbpresent": {
     "id": "fd3fadb8-780c-43d7-b761-67fa91f7ad17"
    }
   },
   "source": [
    "# Feature Engineering\n",
    "It appeats that the no of requests has some kind of a quadratic dependence on the mean temperature so in addition to max and min temperature we should construct a new feature $((minx+maxx)/2)^{2}$. Feature engineering is one way of brining in domain knowledge, experience or gut feeling into the analysis."
   ]
  },
  {
   "cell_type": "code",
   "execution_count": 26,
   "metadata": {
    "nbpresent": {
     "id": "b39bfbba-37c8-4aae-a3e0-a67377ac8431"
    }
   },
   "outputs": [],
   "source": [
    "X=np.column_stack([X,(X[:,1]+X[:,2])**2.0])"
   ]
  },
  {
   "cell_type": "markdown",
   "metadata": {},
   "source": [
    "# Splitting the data into training and test set\n",
    "Generally we can always tune the hyperparameters so much that the model performs well on the data but it fails to generalize on the unseen data. To avoid this we split the available data into traing and test sets. We want somewhat similar performance on both the sets."
   ]
  },
  {
   "cell_type": "code",
   "execution_count": 27,
   "metadata": {
    "nbpresent": {
     "id": "0bc79606-65a0-4f36-b51b-635de2a8e2ad"
    }
   },
   "outputs": [],
   "source": [
    "#Split the data into training and validation test\n",
    "X_train, X_test, y_train, y_test =  train_test_split(X,y,test_size=0.2,random_state = 0)"
   ]
  },
  {
   "cell_type": "markdown",
   "metadata": {
    "nbpresent": {
     "id": "a961186a-df12-40d9-b16f-a40ca065bf44"
    }
   },
   "source": [
    "Conduct a multivariate linear regression on the dataset."
   ]
  },
  {
   "cell_type": "code",
   "execution_count": 28,
   "metadata": {
    "nbpresent": {
     "id": "c4f0b9c6-e062-4986-a63b-507e889968b6"
    }
   },
   "outputs": [
    {
     "name": "stdout",
     "output_type": "stream",
     "text": [
      "Mean squared error on training set: 2050.26\n",
      "Mean squared error on validation set: 3354.57\n",
      "Variance score on training set: 0.82\n",
      "Variance score on validation set: 0.77\n"
     ]
    }
   ],
   "source": [
    "#Multivariabte regression\n",
    "regr = linear_model.LinearRegression()\n",
    "regr.fit(X_train, y_train)\n",
    "y_train_pred=regr.predict(X_train)\n",
    "print(\"Mean squared error on training set: %.2f\" % np.mean((regr.predict(X_train) - y_train) ** 2))\n",
    "print(\"Mean squared error on validation set: %.2f\" % np.mean((regr.predict(X_test) - y_test) ** 2))\n",
    "# Explained variance score: 1 is perfect prediction\n",
    "print('Variance score on training set: %.2f' % regr.score(X_train, y_train))\n",
    "print('Variance score on validation set: %.2f' % regr.score(X_test, y_test))"
   ]
  },
  {
   "cell_type": "code",
   "execution_count": 29,
   "metadata": {
    "nbpresent": {
     "id": "0f39b54a-252b-4d02-995d-877253bb2a41"
    }
   },
   "outputs": [],
   "source": [
    "pred_LR = regr.predict(X_test)\n",
    "y_val = y_test.values.reshape(-1,1)"
   ]
  },
  {
   "cell_type": "code",
   "execution_count": 30,
   "metadata": {
    "nbpresent": {
     "id": "0564c29f-5273-472e-b78d-501fd81da59a"
    },
    "scrolled": true
   },
   "outputs": [
    {
     "name": "stdout",
     "output_type": "stream",
     "text": [
      "[214] 238.034675893\n",
      "[322] 319.680588489\n",
      "[383] 298.20747587\n",
      "[203] 210.606509338\n",
      "[232] 233.435611564\n",
      "[268] 284.532018821\n",
      "[27] 92.0504257959\n",
      "[150] 158.220910418\n",
      "[322] 360.04546281\n",
      "[339] 307.729653896\n",
      "[183] 165.883823091\n",
      "[406] 353.663204344\n",
      "[318] 339.068823498\n",
      "[267] 202.445832986\n",
      "[281] 213.484634594\n",
      "[570] 409.558669316\n",
      "[343] 306.445742376\n",
      "[202] 207.30683584\n",
      "[229] 223.757677269\n",
      "[234] 99.4213477369\n",
      "[593] 536.882495537\n",
      "[344] 292.053770194\n",
      "[410] 299.039183423\n",
      "[531] 479.788242363\n",
      "[327] 238.681242899\n",
      "[290] 259.636307388\n",
      "[171] 144.667759171\n",
      "[321] 324.155414033\n",
      "[304] 327.174144767\n",
      "[180] 155.127868625\n",
      "[137] 155.740139511\n"
     ]
    }
   ],
   "source": [
    "for i in range(len(pred_LR)):\n",
    "    print(y_val[i],pred_LR[i])"
   ]
  }
 ],
 "metadata": {
  "kernelspec": {
   "display_name": "Python 3",
   "language": "python",
   "name": "python3"
  },
  "language_info": {
   "codemirror_mode": {
    "name": "ipython",
    "version": 3
   },
   "file_extension": ".py",
   "mimetype": "text/x-python",
   "name": "python",
   "nbconvert_exporter": "python",
   "pygments_lexer": "ipython3",
   "version": "3.6.6"
  },
  "nbpresent": {
   "slides": {
    "08d4bcfc-8853-4adc-8a47-74b5e44307b0": {
     "id": "08d4bcfc-8853-4adc-8a47-74b5e44307b0",
     "prev": "e689943a-aa2b-493c-955e-e205285c4044",
     "regions": {
      "2ec88f4f-3814-4eb3-bd46-2df2c43a602a": {
       "attrs": {
        "height": 0.8,
        "width": 0.8,
        "x": 0.1,
        "y": 0.1
       },
       "content": {
        "cell": "ad8659c0-1c9e-40b4-8c50-6ab5880554c3",
        "part": "whole"
       },
       "id": "2ec88f4f-3814-4eb3-bd46-2df2c43a602a"
      }
     }
    },
    "0d81d484-f8d3-46e8-8655-d1d84916a24e": {
     "id": "0d81d484-f8d3-46e8-8655-d1d84916a24e",
     "prev": "4447b3e4-2c70-4f34-82a3-982ba7f35bd6",
     "regions": {
      "783cae2d-f856-49d5-b53c-f78327a5f254": {
       "attrs": {
        "height": 0.8,
        "width": 0.8,
        "x": 0.1,
        "y": 0.1
       },
       "content": {
        "cell": "30834621-aea1-453c-8a8a-c0e3c4a3d89f",
        "part": "whole"
       },
       "id": "783cae2d-f856-49d5-b53c-f78327a5f254"
      }
     }
    },
    "1222daf0-e3f6-4f5d-9562-c3a62e0fe5cb": {
     "id": "1222daf0-e3f6-4f5d-9562-c3a62e0fe5cb",
     "prev": "69f78eda-b252-4d69-aed5-e4b47b30dfec",
     "regions": {
      "3977a7cc-df0e-4da1-a079-7a3ac29fbe5c": {
       "attrs": {
        "height": 0.8,
        "width": 0.8,
        "x": 0.1,
        "y": 0.1
       },
       "content": {
        "cell": "381b8e0a-5f2d-4c91-a0c6-aa5b0a3f7c8d",
        "part": "whole"
       },
       "id": "3977a7cc-df0e-4da1-a079-7a3ac29fbe5c"
      }
     }
    },
    "21c4a223-feb4-46a7-a039-b449e92a03d7": {
     "id": "21c4a223-feb4-46a7-a039-b449e92a03d7",
     "prev": "29ac6334-b94a-418c-ae5a-c66526576638",
     "regions": {
      "63b0a8a4-b916-4373-ba7d-7cd21f53fb31": {
       "attrs": {
        "height": 0.8,
        "width": 0.8,
        "x": 0.1,
        "y": 0.1
       },
       "content": {
        "cell": "f0d1ce04-2082-4cdd-b47d-6fcf92a8b88e",
        "part": "whole"
       },
       "id": "63b0a8a4-b916-4373-ba7d-7cd21f53fb31"
      }
     }
    },
    "25752525-dbbb-4c84-93e7-714a3cba0c15": {
     "id": "25752525-dbbb-4c84-93e7-714a3cba0c15",
     "prev": "b62b1ebb-61cc-4613-bb4d-0a528633ddee",
     "regions": {
      "a5574cab-eff1-47f4-a6d0-13c4fa9b8e8d": {
       "attrs": {
        "height": 0.8,
        "width": 0.8,
        "x": 0.1,
        "y": 0.1
       },
       "content": {
        "cell": "549f13db-4272-4c5f-8a9a-2fa573938735",
        "part": "whole"
       },
       "id": "a5574cab-eff1-47f4-a6d0-13c4fa9b8e8d"
      }
     }
    },
    "29ac6334-b94a-418c-ae5a-c66526576638": {
     "id": "29ac6334-b94a-418c-ae5a-c66526576638",
     "prev": "c430089a-bde1-453e-9b27-6437b3d26a28",
     "regions": {
      "848cd44b-e9cc-4360-9d89-68f90a671c46": {
       "attrs": {
        "height": 0.8,
        "width": 0.8,
        "x": 0.1,
        "y": 0.1
       },
       "content": {
        "cell": "07bfaf00-06db-48c3-99a2-8e80b13e3708",
        "part": "whole"
       },
       "id": "848cd44b-e9cc-4360-9d89-68f90a671c46"
      }
     }
    },
    "2b6e48ce-f9b4-4794-afe4-9a84ac2be25a": {
     "id": "2b6e48ce-f9b4-4794-afe4-9a84ac2be25a",
     "prev": "4f988eac-a679-46c5-9ea4-a611107ced84",
     "regions": {
      "821f3013-8df6-45b8-9091-455fd1c8484e": {
       "attrs": {
        "height": 0.8,
        "width": 0.8,
        "x": 0.1,
        "y": 0.1
       },
       "content": {
        "cell": "aafc7a49-da40-49b6-b6ef-a95edf00e38c",
        "part": "whole"
       },
       "id": "821f3013-8df6-45b8-9091-455fd1c8484e"
      }
     }
    },
    "2fead64f-14f5-4861-911a-c301d036c30f": {
     "id": "2fead64f-14f5-4861-911a-c301d036c30f",
     "prev": "af2a0956-6f1a-4538-8146-94c0b1974d19",
     "regions": {
      "5a05c052-438e-46fa-be9c-65129a8fc2a4": {
       "attrs": {
        "height": 0.8,
        "width": 0.8,
        "x": 0.1,
        "y": 0.1
       },
       "content": {
        "cell": "466cfbb4-6bd3-4a05-9038-f92fec3dbb64",
        "part": "whole"
       },
       "id": "5a05c052-438e-46fa-be9c-65129a8fc2a4"
      }
     }
    },
    "38a90466-c382-4cfb-a96f-c2d77e636154": {
     "id": "38a90466-c382-4cfb-a96f-c2d77e636154",
     "prev": "dc4c76a6-7565-4f91-8b2f-15aebac51d4b",
     "regions": {
      "0bc8e1ce-4dc1-4988-bd4c-b3e2767606ca": {
       "attrs": {
        "height": 0.8,
        "width": 0.8,
        "x": 0.1,
        "y": 0.1
       },
       "content": {
        "cell": "0f39b54a-252b-4d02-995d-877253bb2a41",
        "part": "whole"
       },
       "id": "0bc8e1ce-4dc1-4988-bd4c-b3e2767606ca"
      }
     }
    },
    "43e3022b-6413-449f-8423-246ef7721ab1": {
     "id": "43e3022b-6413-449f-8423-246ef7721ab1",
     "prev": "38a90466-c382-4cfb-a96f-c2d77e636154",
     "regions": {
      "e11f3100-02c0-471c-8b80-426e9627df57": {
       "attrs": {
        "height": 0.8,
        "width": 0.8,
        "x": 0.1,
        "y": 0.1
       },
       "content": {
        "cell": "0564c29f-5273-472e-b78d-501fd81da59a",
        "part": "whole"
       },
       "id": "e11f3100-02c0-471c-8b80-426e9627df57"
      }
     }
    },
    "4447b3e4-2c70-4f34-82a3-982ba7f35bd6": {
     "id": "4447b3e4-2c70-4f34-82a3-982ba7f35bd6",
     "prev": "a923d2aa-b278-4885-bb6f-edf47a528199",
     "regions": {
      "ecbee31a-0136-4c29-828f-8fceb4af0622": {
       "attrs": {
        "height": 0.8,
        "width": 0.8,
        "x": 0.1,
        "y": 0.1
       },
       "content": {
        "cell": "12a2705c-6c2c-4156-beac-bbc0068d80e3",
        "part": "whole"
       },
       "id": "ecbee31a-0136-4c29-828f-8fceb4af0622"
      }
     }
    },
    "4e09d8d6-c2ed-4452-8056-3cc4153e188d": {
     "id": "4e09d8d6-c2ed-4452-8056-3cc4153e188d",
     "prev": "e102481a-8800-47d2-a092-71f23ff9d8f2",
     "regions": {
      "84c5f201-57af-4879-9f57-6675d060a6e7": {
       "attrs": {
        "height": 0.8,
        "width": 0.8,
        "x": 0.1,
        "y": 0.1
       },
       "content": {
        "cell": "b9e5b2cd-16b7-4629-b96d-7b16a00bdd32",
        "part": "whole"
       },
       "id": "84c5f201-57af-4879-9f57-6675d060a6e7"
      }
     }
    },
    "4f988eac-a679-46c5-9ea4-a611107ced84": {
     "id": "4f988eac-a679-46c5-9ea4-a611107ced84",
     "prev": "2fead64f-14f5-4861-911a-c301d036c30f",
     "regions": {
      "931858c1-01e8-42b8-86dd-d6b09c793230": {
       "attrs": {
        "height": 0.8,
        "width": 0.8,
        "x": 0.1,
        "y": 0.1
       },
       "content": {
        "cell": "87c83cb1-3f39-439e-9504-7bd2d95f9827",
        "part": "whole"
       },
       "id": "931858c1-01e8-42b8-86dd-d6b09c793230"
      }
     }
    },
    "50ade25f-89da-4279-a7ef-bb298332f845": {
     "id": "50ade25f-89da-4279-a7ef-bb298332f845",
     "prev": "f36e3c2a-b699-45fa-b9cc-d6e3a2607efb",
     "regions": {
      "3891100e-3043-4173-87e0-15e437034ff8": {
       "attrs": {
        "height": 0.8,
        "width": 0.8,
        "x": 0.1,
        "y": 0.1
       },
       "content": {
        "cell": "d6652d7a-2ca0-46a8-be57-04fac42d0ce9",
        "part": "whole"
       },
       "id": "3891100e-3043-4173-87e0-15e437034ff8"
      }
     }
    },
    "55ebfa31-d120-48f4-84b6-be3621657a77": {
     "id": "55ebfa31-d120-48f4-84b6-be3621657a77",
     "prev": "58b88bdf-e77b-4d81-a8d4-a22ba8cab5d2",
     "regions": {
      "a1e2a658-4f42-4024-98cd-7a34784c6f76": {
       "attrs": {
        "height": 0.8,
        "width": 0.8,
        "x": 0.1,
        "y": 0.1
       },
       "content": {
        "cell": "747ffd0f-6ae5-4ab2-9150-84fb4edcb28d",
        "part": "whole"
       },
       "id": "a1e2a658-4f42-4024-98cd-7a34784c6f76"
      }
     }
    },
    "58b88bdf-e77b-4d81-a8d4-a22ba8cab5d2": {
     "id": "58b88bdf-e77b-4d81-a8d4-a22ba8cab5d2",
     "prev": "e48eedce-c282-4962-8ae9-f23125b44e8b",
     "regions": {
      "579ab40f-6be8-4814-8b2b-47811c8824fc": {
       "attrs": {
        "height": 0.8,
        "width": 0.8,
        "x": 0.1,
        "y": 0.1
       },
       "content": {
        "cell": "1a1d92f2-85d6-4155-b7a7-9472687511fa",
        "part": "whole"
       },
       "id": "579ab40f-6be8-4814-8b2b-47811c8824fc"
      }
     }
    },
    "5a047468-6b6a-416c-9962-d72f9583280a": {
     "id": "5a047468-6b6a-416c-9962-d72f9583280a",
     "prev": "b2122f6b-18dd-46e7-b403-fc321cd7e590",
     "regions": {
      "1079893f-54d6-41b5-8356-aab1b5c89038": {
       "attrs": {
        "height": 0.8,
        "width": 0.8,
        "x": 0.1,
        "y": 0.1
       },
       "content": {
        "cell": "c775c431-81d9-44c1-a80a-8d53b68d9d4e",
        "part": "whole"
       },
       "id": "1079893f-54d6-41b5-8356-aab1b5c89038"
      }
     }
    },
    "61a15d70-e8f4-4443-9bc6-82f94d24b8d8": {
     "id": "61a15d70-e8f4-4443-9bc6-82f94d24b8d8",
     "prev": "9287bb5d-22c1-4162-b432-e83d0777e50d",
     "regions": {
      "c75772f9-3c77-485d-b02a-53fb4a3215e6": {
       "attrs": {
        "height": 0.8,
        "width": 0.8,
        "x": 0.1,
        "y": 0.1
       },
       "content": {
        "cell": "3889de6f-76dc-45a0-87e3-5891f7c6f7b4",
        "part": "whole"
       },
       "id": "c75772f9-3c77-485d-b02a-53fb4a3215e6"
      }
     }
    },
    "63750c04-2f05-4016-abb6-7e12dfd4afe2": {
     "id": "63750c04-2f05-4016-abb6-7e12dfd4afe2",
     "prev": "55ebfa31-d120-48f4-84b6-be3621657a77",
     "regions": {
      "65dcf900-1fe8-41bb-8100-cdb8773dfd02": {
       "attrs": {
        "height": 0.8,
        "width": 0.8,
        "x": 0.1,
        "y": 0.1
       },
       "content": {
        "cell": "688747bd-6eff-42e3-967f-d19dfec7f699",
        "part": "whole"
       },
       "id": "65dcf900-1fe8-41bb-8100-cdb8773dfd02"
      }
     }
    },
    "639fd837-6a90-499e-8902-928173d9bd6c": {
     "id": "639fd837-6a90-499e-8902-928173d9bd6c",
     "prev": "63750c04-2f05-4016-abb6-7e12dfd4afe2",
     "regions": {
      "4eca7682-2260-40ae-ae86-61860adc8f40": {
       "attrs": {
        "height": 0.8,
        "width": 0.8,
        "x": 0.1,
        "y": 0.1
       },
       "content": {
        "cell": "5eb98a7e-2775-4a8b-bed1-f52f65e208ef",
        "part": "whole"
       },
       "id": "4eca7682-2260-40ae-ae86-61860adc8f40"
      }
     }
    },
    "65175eac-0748-4bec-a83c-82bc49dcc774": {
     "id": "65175eac-0748-4bec-a83c-82bc49dcc774",
     "prev": "25752525-dbbb-4c84-93e7-714a3cba0c15",
     "regions": {
      "1fe3b5d9-9c63-4156-8a01-efc950ca9f52": {
       "attrs": {
        "height": 0.8,
        "width": 0.8,
        "x": 0.1,
        "y": 0.1
       },
       "content": {
        "cell": "637985b9-d021-4ce7-bb6f-00d72261d051",
        "part": "whole"
       },
       "id": "1fe3b5d9-9c63-4156-8a01-efc950ca9f52"
      }
     }
    },
    "69f78eda-b252-4d69-aed5-e4b47b30dfec": {
     "id": "69f78eda-b252-4d69-aed5-e4b47b30dfec",
     "prev": "f26b5a43-7755-46fd-bf51-3500ca4c30cb",
     "regions": {
      "ef95b117-9387-400b-9785-95119035cfe4": {
       "attrs": {
        "height": 0.8,
        "width": 0.8,
        "x": 0.1,
        "y": 0.1
       },
       "content": {
        "cell": "ff182988-667a-4139-9bfd-109acf432b1b",
        "part": "whole"
       },
       "id": "ef95b117-9387-400b-9785-95119035cfe4"
      }
     }
    },
    "6be47ab5-da12-4267-a8d9-09f27e08843e": {
     "id": "6be47ab5-da12-4267-a8d9-09f27e08843e",
     "prev": "5a047468-6b6a-416c-9962-d72f9583280a",
     "regions": {
      "280698ed-6a97-4fb8-b2d5-b4ecd59220d9": {
       "attrs": {
        "height": 0.8,
        "width": 0.8,
        "x": 0.1,
        "y": 0.1
       },
       "content": {
        "cell": "c0f0d00a-df4f-472a-b86f-1e57324a06cf",
        "part": "whole"
       },
       "id": "280698ed-6a97-4fb8-b2d5-b4ecd59220d9"
      }
     }
    },
    "6cf466c3-f9a5-479f-87c3-22e9cc4c0d75": {
     "id": "6cf466c3-f9a5-479f-87c3-22e9cc4c0d75",
     "prev": "4e09d8d6-c2ed-4452-8056-3cc4153e188d",
     "regions": {
      "e595afa8-3a81-4ace-86de-2b3151e5d967": {
       "attrs": {
        "height": 0.8,
        "width": 0.8,
        "x": 0.1,
        "y": 0.1
       },
       "content": {
        "cell": "a9df2cec-b0a0-4d12-90dd-233bf7bb6cb9",
        "part": "whole"
       },
       "id": "e595afa8-3a81-4ace-86de-2b3151e5d967"
      }
     }
    },
    "71180c3e-e93f-4d72-bf0f-f9ccf4f2a302": {
     "id": "71180c3e-e93f-4d72-bf0f-f9ccf4f2a302",
     "prev": "8bb1fbe3-f12b-4ffb-8eca-c73467c19a49",
     "regions": {
      "7aaca077-025e-4516-af7f-38c43c8bd765": {
       "attrs": {
        "height": 0.8,
        "width": 0.8,
        "x": 0.1,
        "y": 0.1
       },
       "content": {
        "cell": "e6a2e6dd-3b54-4afb-980f-b8da90407f05",
        "part": "whole"
       },
       "id": "7aaca077-025e-4516-af7f-38c43c8bd765"
      }
     }
    },
    "71635348-097c-4c8a-8ce8-a186cede7a5f": {
     "id": "71635348-097c-4c8a-8ce8-a186cede7a5f",
     "prev": "21c4a223-feb4-46a7-a039-b449e92a03d7",
     "regions": {
      "70a145cf-c68d-4bb7-a877-7bfe62539a4d": {
       "attrs": {
        "height": 0.8,
        "width": 0.8,
        "x": 0.1,
        "y": 0.1
       },
       "content": {
        "cell": "6f1e7af1-14a0-4f49-8e32-cebb1cfb8b28",
        "part": "whole"
       },
       "id": "70a145cf-c68d-4bb7-a877-7bfe62539a4d"
      }
     }
    },
    "793bb47d-99f1-4b63-b766-37e65d5e7e50": {
     "id": "793bb47d-99f1-4b63-b766-37e65d5e7e50",
     "prev": "0d81d484-f8d3-46e8-8655-d1d84916a24e",
     "regions": {
      "8c9939bd-c1d6-4ff3-8804-b1a5d7ad04f8": {
       "attrs": {
        "height": 0.8,
        "width": 0.8,
        "x": 0.1,
        "y": 0.1
       },
       "content": {
        "cell": "2e9d4336-e7af-417a-a345-a3260810a6c4",
        "part": "whole"
       },
       "id": "8c9939bd-c1d6-4ff3-8804-b1a5d7ad04f8"
      }
     }
    },
    "7d03c163-6d1f-4599-8454-db9b0334677d": {
     "id": "7d03c163-6d1f-4599-8454-db9b0334677d",
     "prev": "c77b990a-abda-4ad4-ad31-3ea503eb7d30",
     "regions": {
      "b5c9005e-e2f7-4d21-9bb3-60118a3ca53b": {
       "attrs": {
        "height": 0.8,
        "width": 0.8,
        "x": 0.1,
        "y": 0.1
       },
       "content": {
        "cell": "a7fa7990-1006-44c4-8a00-ded0ffff1388",
        "part": "whole"
       },
       "id": "b5c9005e-e2f7-4d21-9bb3-60118a3ca53b"
      }
     }
    },
    "8bb1fbe3-f12b-4ffb-8eca-c73467c19a49": {
     "id": "8bb1fbe3-f12b-4ffb-8eca-c73467c19a49",
     "prev": "aeeff3d6-a15e-45dd-a22c-810d224189bb",
     "regions": {
      "3cf6290b-8985-408a-a969-dc7ec8b5e04a": {
       "attrs": {
        "height": 0.8,
        "width": 0.8,
        "x": 0.1,
        "y": 0.1
       },
       "content": {
        "cell": "bb51380d-15e3-4720-ae6e-62eec2b7fb4a",
        "part": "whole"
       },
       "id": "3cf6290b-8985-408a-a969-dc7ec8b5e04a"
      }
     }
    },
    "9287bb5d-22c1-4162-b432-e83d0777e50d": {
     "id": "9287bb5d-22c1-4162-b432-e83d0777e50d",
     "prev": "71635348-097c-4c8a-8ce8-a186cede7a5f",
     "regions": {
      "6beb9bc7-5192-469c-9238-854f6f5058ed": {
       "attrs": {
        "height": 0.8,
        "width": 0.8,
        "x": 0.1,
        "y": 0.1
       },
       "content": {
        "cell": "66f483f3-512a-4fd4-ad6d-17fa467a5b85",
        "part": "whole"
       },
       "id": "6beb9bc7-5192-469c-9238-854f6f5058ed"
      }
     }
    },
    "9486e586-5bb0-4b26-9bf9-c1bcb67299a4": {
     "id": "9486e586-5bb0-4b26-9bf9-c1bcb67299a4",
     "prev": "bc846ace-2a31-47d4-8f9f-ba30f7b9d9d5",
     "regions": {
      "d5265879-a236-42c9-9a11-5898bf039fac": {
       "attrs": {
        "height": 0.8,
        "width": 0.8,
        "x": 0.1,
        "y": 0.1
       },
       "content": {
        "cell": "fe04f45e-d175-47ff-a190-e26b301759f8",
        "part": "whole"
       },
       "id": "d5265879-a236-42c9-9a11-5898bf039fac"
      }
     }
    },
    "9b95b8f8-6fa9-4613-a926-5a8dc0f9b4ea": {
     "id": "9b95b8f8-6fa9-4613-a926-5a8dc0f9b4ea",
     "prev": "71180c3e-e93f-4d72-bf0f-f9ccf4f2a302",
     "regions": {
      "d9564120-bffa-4dcb-83ec-c0cec9147ee0": {
       "attrs": {
        "height": 0.8,
        "width": 0.8,
        "x": 0.1,
        "y": 0.1
       },
       "content": {
        "cell": "f8170ebb-7a6f-4c13-b2a0-b8b5951b626a",
        "part": "whole"
       },
       "id": "d9564120-bffa-4dcb-83ec-c0cec9147ee0"
      }
     }
    },
    "9cbedd6d-911c-4446-b67e-be2cd5d3b647": {
     "id": "9cbedd6d-911c-4446-b67e-be2cd5d3b647",
     "prev": "08d4bcfc-8853-4adc-8a47-74b5e44307b0",
     "regions": {
      "536692dc-64d9-41eb-b379-8975dea84954": {
       "attrs": {
        "height": 0.8,
        "width": 0.8,
        "x": 0.1,
        "y": 0.1
       },
       "content": {
        "cell": "fd3fadb8-780c-43d7-b761-67fa91f7ad17",
        "part": "whole"
       },
       "id": "536692dc-64d9-41eb-b379-8975dea84954"
      }
     }
    },
    "a923d2aa-b278-4885-bb6f-edf47a528199": {
     "id": "a923d2aa-b278-4885-bb6f-edf47a528199",
     "prev": "e8797120-2365-4308-b839-611d539bd92c",
     "regions": {
      "921c94dc-a7e6-40be-8b66-cb064c6631be": {
       "attrs": {
        "height": 0.8,
        "width": 0.8,
        "x": 0.1,
        "y": 0.1
       },
       "content": {
        "cell": "523e648c-cdc6-4afe-ace4-977cd8ac3a53",
        "part": "whole"
       },
       "id": "921c94dc-a7e6-40be-8b66-cb064c6631be"
      }
     }
    },
    "aed11e23-bccf-434b-8268-8d9ef30644e6": {
     "id": "aed11e23-bccf-434b-8268-8d9ef30644e6",
     "prev": "9486e586-5bb0-4b26-9bf9-c1bcb67299a4",
     "regions": {
      "0bf6a031-4570-433e-b6b0-60f71ee96ea4": {
       "attrs": {
        "height": 0.8,
        "width": 0.8,
        "x": 0.1,
        "y": 0.1
       },
       "content": {
        "cell": "1665fadd-62d1-4ae2-9029-b60b887d7bd2",
        "part": "whole"
       },
       "id": "0bf6a031-4570-433e-b6b0-60f71ee96ea4"
      }
     }
    },
    "aed53b40-b720-444a-bd2c-913201d5b19b": {
     "id": "aed53b40-b720-444a-bd2c-913201d5b19b",
     "prev": "c1d411f3-8bd2-4319-8996-5672061cbfe5",
     "regions": {
      "c483688d-ecaa-4f86-a8d9-ebcaa8d515bb": {
       "attrs": {
        "height": 0.8,
        "width": 0.8,
        "x": 0.1,
        "y": 0.1
       },
       "content": {
        "cell": "cf2f11ec-87e3-4d76-a55f-d760d0e0c918",
        "part": "whole"
       },
       "id": "c483688d-ecaa-4f86-a8d9-ebcaa8d515bb"
      }
     }
    },
    "aeeff3d6-a15e-45dd-a22c-810d224189bb": {
     "id": "aeeff3d6-a15e-45dd-a22c-810d224189bb",
     "prev": "65175eac-0748-4bec-a83c-82bc49dcc774",
     "regions": {
      "525e0232-3e5e-4db7-95b1-67bd848028d8": {
       "attrs": {
        "height": 0.8,
        "width": 0.8,
        "x": 0.1,
        "y": 0.1
       },
       "content": {
        "cell": "755540bc-e78a-4116-a940-b0dc8e8b1890",
        "part": "whole"
       },
       "id": "525e0232-3e5e-4db7-95b1-67bd848028d8"
      }
     }
    },
    "af2a0956-6f1a-4538-8146-94c0b1974d19": {
     "id": "af2a0956-6f1a-4538-8146-94c0b1974d19",
     "prev": "aed11e23-bccf-434b-8268-8d9ef30644e6",
     "regions": {
      "563ca802-8d8e-4cba-8b3e-06e2d4332db6": {
       "attrs": {
        "height": 0.8,
        "width": 0.8,
        "x": 0.1,
        "y": 0.1
       },
       "content": {
        "cell": "f0fbb644-dc5c-4990-af8d-f876410d0e20",
        "part": "whole"
       },
       "id": "563ca802-8d8e-4cba-8b3e-06e2d4332db6"
      }
     }
    },
    "b2122f6b-18dd-46e7-b403-fc321cd7e590": {
     "id": "b2122f6b-18dd-46e7-b403-fc321cd7e590",
     "prev": "b5e48b0b-d8c6-4753-b9cc-61c898151a6d",
     "regions": {
      "547a51d0-b3e4-4a7c-bbfb-977bd34aadee": {
       "attrs": {
        "height": 0.8,
        "width": 0.8,
        "x": 0.1,
        "y": 0.1
       },
       "content": {
        "cell": "8e9b08e2-94e0-4c90-b447-f06af07f7495",
        "part": "whole"
       },
       "id": "547a51d0-b3e4-4a7c-bbfb-977bd34aadee"
      }
     }
    },
    "b46f5af3-ecf4-44d5-ac1b-d5855f670fb4": {
     "id": "b46f5af3-ecf4-44d5-ac1b-d5855f670fb4",
     "prev": "c29db6c8-7b9c-4195-915c-bb322e9e491b",
     "regions": {
      "0bed4a45-1545-4d01-b683-00e9b68e80a3": {
       "attrs": {
        "height": 0.8,
        "width": 0.8,
        "x": 0.1,
        "y": 0.1
       },
       "content": {
        "cell": "a961186a-df12-40d9-b16f-a40ca065bf44",
        "part": "whole"
       },
       "id": "0bed4a45-1545-4d01-b683-00e9b68e80a3"
      }
     }
    },
    "b4bdea2b-ebc2-4cbe-be1b-1063fbd063f4": {
     "id": "b4bdea2b-ebc2-4cbe-be1b-1063fbd063f4",
     "prev": "639fd837-6a90-499e-8902-928173d9bd6c",
     "regions": {
      "218da4ad-f181-4984-a2a1-67a53c92f5c7": {
       "attrs": {
        "height": 0.8,
        "width": 0.8,
        "x": 0.1,
        "y": 0.1
       },
       "content": {
        "cell": "2c52fdc0-678d-43d2-8847-a82fa5f5241a",
        "part": "whole"
       },
       "id": "218da4ad-f181-4984-a2a1-67a53c92f5c7"
      }
     }
    },
    "b5e48b0b-d8c6-4753-b9cc-61c898151a6d": {
     "id": "b5e48b0b-d8c6-4753-b9cc-61c898151a6d",
     "prev": "1222daf0-e3f6-4f5d-9562-c3a62e0fe5cb",
     "regions": {
      "a482c469-2f9c-4b7c-851b-9148dc852882": {
       "attrs": {
        "height": 0.8,
        "width": 0.8,
        "x": 0.1,
        "y": 0.1
       },
       "content": {
        "cell": "20369d13-ee07-4d87-9db2-097da02591fe",
        "part": "whole"
       },
       "id": "a482c469-2f9c-4b7c-851b-9148dc852882"
      }
     }
    },
    "b62b1ebb-61cc-4613-bb4d-0a528633ddee": {
     "id": "b62b1ebb-61cc-4613-bb4d-0a528633ddee",
     "prev": "d84cc473-8278-46c5-8c9f-a06038fbe776",
     "regions": {
      "8083d73e-9b2e-4f86-9c9c-f0dc3ffa4ec6": {
       "attrs": {
        "height": 0.8,
        "width": 0.8,
        "x": 0.1,
        "y": 0.1
       },
       "content": {
        "cell": "a90252e8-7565-40a8-8cbe-3aa1da57c8c2",
        "part": "whole"
       },
       "id": "8083d73e-9b2e-4f86-9c9c-f0dc3ffa4ec6"
      }
     }
    },
    "bb415338-8d7c-4778-aac5-cde6eb6a6912": {
     "id": "bb415338-8d7c-4778-aac5-cde6eb6a6912",
     "prev": "df443345-bd63-42c9-8ea5-ccbc9799f29f",
     "regions": {
      "d0734420-98a8-4dcd-b1f7-5fc2e5abfff0": {
       "attrs": {
        "height": 0.8,
        "width": 0.8,
        "x": 0.1,
        "y": 0.1
       },
       "content": {
        "cell": "3442efbf-ddaa-4cf7-a0cc-9cd91a34ec70",
        "part": "whole"
       },
       "id": "d0734420-98a8-4dcd-b1f7-5fc2e5abfff0"
      }
     }
    },
    "bc846ace-2a31-47d4-8f9f-ba30f7b9d9d5": {
     "id": "bc846ace-2a31-47d4-8f9f-ba30f7b9d9d5",
     "prev": null,
     "regions": {
      "d6d07aee-5130-4268-99b4-57c73fe7d564": {
       "attrs": {
        "height": 0.8,
        "width": 0.8,
        "x": 0.1,
        "y": 0.1
       },
       "content": {
        "cell": "7b3e85cc-6d8c-457b-92c2-f9b4a5db5ea7",
        "part": "whole"
       },
       "id": "d6d07aee-5130-4268-99b4-57c73fe7d564"
      }
     }
    },
    "c1d411f3-8bd2-4319-8996-5672061cbfe5": {
     "id": "c1d411f3-8bd2-4319-8996-5672061cbfe5",
     "prev": "bb415338-8d7c-4778-aac5-cde6eb6a6912",
     "regions": {
      "3c82ec9a-bf89-4ca7-9b16-6a6f7deddfda": {
       "attrs": {
        "height": 0.8,
        "width": 0.8,
        "x": 0.1,
        "y": 0.1
       },
       "content": {
        "cell": "b2527714-7ef3-4184-879e-8f6dca38394b",
        "part": "whole"
       },
       "id": "3c82ec9a-bf89-4ca7-9b16-6a6f7deddfda"
      }
     }
    },
    "c1fc7701-8d95-4137-b206-46032ebe62b9": {
     "id": "c1fc7701-8d95-4137-b206-46032ebe62b9",
     "prev": "9cbedd6d-911c-4446-b67e-be2cd5d3b647",
     "regions": {
      "67cb3afe-d4eb-4db1-a4ff-4d0b0333dee3": {
       "attrs": {
        "height": 0.8,
        "width": 0.8,
        "x": 0.1,
        "y": 0.1
       },
       "content": {
        "cell": "b39bfbba-37c8-4aae-a3e0-a67377ac8431",
        "part": "whole"
       },
       "id": "67cb3afe-d4eb-4db1-a4ff-4d0b0333dee3"
      }
     }
    },
    "c29db6c8-7b9c-4195-915c-bb322e9e491b": {
     "id": "c29db6c8-7b9c-4195-915c-bb322e9e491b",
     "prev": "c1fc7701-8d95-4137-b206-46032ebe62b9",
     "regions": {
      "9864db50-942f-4443-8bf2-3edf97fb1190": {
       "attrs": {
        "height": 0.8,
        "width": 0.8,
        "x": 0.1,
        "y": 0.1
       },
       "content": {
        "cell": "0bc79606-65a0-4f36-b51b-635de2a8e2ad",
        "part": "whole"
       },
       "id": "9864db50-942f-4443-8bf2-3edf97fb1190"
      }
     }
    },
    "c430089a-bde1-453e-9b27-6437b3d26a28": {
     "id": "c430089a-bde1-453e-9b27-6437b3d26a28",
     "prev": "ffa5ad71-e395-4b9b-890b-1bc007c36bf0",
     "regions": {
      "1ab45172-1543-4716-a42b-665c2830ff20": {
       "attrs": {
        "height": 0.8,
        "width": 0.8,
        "x": 0.1,
        "y": 0.1
       },
       "content": {
        "cell": "97d7c7c1-8e52-4e03-8da7-83c663a03f5f",
        "part": "whole"
       },
       "id": "1ab45172-1543-4716-a42b-665c2830ff20"
      }
     }
    },
    "c77b990a-abda-4ad4-ad31-3ea503eb7d30": {
     "id": "c77b990a-abda-4ad4-ad31-3ea503eb7d30",
     "prev": "2b6e48ce-f9b4-4794-afe4-9a84ac2be25a",
     "regions": {
      "b01ac9b4-42ff-4137-a328-cc58aba1bc0d": {
       "attrs": {
        "height": 0.8,
        "width": 0.8,
        "x": 0.1,
        "y": 0.1
       },
       "content": {
        "cell": "9944dfc3-6321-495e-9755-38b2095ff773",
        "part": "whole"
       },
       "id": "b01ac9b4-42ff-4137-a328-cc58aba1bc0d"
      }
     }
    },
    "d84cc473-8278-46c5-8c9f-a06038fbe776": {
     "id": "d84cc473-8278-46c5-8c9f-a06038fbe776",
     "prev": "793bb47d-99f1-4b63-b766-37e65d5e7e50",
     "regions": {
      "ffa497a7-74bb-43d7-b5c9-c2a6d807ae4c": {
       "attrs": {
        "height": 0.8,
        "width": 0.8,
        "x": 0.1,
        "y": 0.1
       },
       "content": {
        "cell": "8eeab993-43e2-4d20-bb94-e3f2a606e416",
        "part": "whole"
       },
       "id": "ffa497a7-74bb-43d7-b5c9-c2a6d807ae4c"
      }
     }
    },
    "dc4c76a6-7565-4f91-8b2f-15aebac51d4b": {
     "id": "dc4c76a6-7565-4f91-8b2f-15aebac51d4b",
     "prev": "b46f5af3-ecf4-44d5-ac1b-d5855f670fb4",
     "regions": {
      "a7b56f76-23d9-453d-97be-508e347846d8": {
       "attrs": {
        "height": 0.8,
        "width": 0.8,
        "x": 0.1,
        "y": 0.1
       },
       "content": {
        "cell": "c4f0b9c6-e062-4986-a63b-507e889968b6",
        "part": "whole"
       },
       "id": "a7b56f76-23d9-453d-97be-508e347846d8"
      }
     }
    },
    "df443345-bd63-42c9-8ea5-ccbc9799f29f": {
     "id": "df443345-bd63-42c9-8ea5-ccbc9799f29f",
     "prev": "61a15d70-e8f4-4443-9bc6-82f94d24b8d8",
     "regions": {
      "75d80c50-ec69-45c7-ae07-5b013035617f": {
       "attrs": {
        "height": 0.8,
        "width": 0.8,
        "x": 0.1,
        "y": 0.1
       },
       "content": {
        "cell": "ebbe51a5-764d-4cc6-8cb5-7786b69bad3c",
        "part": "whole"
       },
       "id": "75d80c50-ec69-45c7-ae07-5b013035617f"
      }
     }
    },
    "e01c6464-0421-4bb2-91e5-e8d00fb0621f": {
     "id": "e01c6464-0421-4bb2-91e5-e8d00fb0621f",
     "prev": "50ade25f-89da-4279-a7ef-bb298332f845",
     "regions": {
      "816e5066-f80e-4d34-b34c-a89b53fac9ed": {
       "attrs": {
        "height": 0.8,
        "width": 0.8,
        "x": 0.1,
        "y": 0.1
       },
       "content": {
        "cell": "d83bc4dd-3733-4855-897d-5b16f7ac6223",
        "part": "whole"
       },
       "id": "816e5066-f80e-4d34-b34c-a89b53fac9ed"
      }
     }
    },
    "e102481a-8800-47d2-a092-71f23ff9d8f2": {
     "id": "e102481a-8800-47d2-a092-71f23ff9d8f2",
     "prev": "7d03c163-6d1f-4599-8454-db9b0334677d",
     "regions": {
      "01e9b166-ba37-4d96-8ba8-e0b81d9f52c7": {
       "attrs": {
        "height": 0.8,
        "width": 0.8,
        "x": 0.1,
        "y": 0.1
       },
       "content": {
        "cell": "8903ca68-8eb5-4e91-bded-4261d9db11e0",
        "part": "whole"
       },
       "id": "01e9b166-ba37-4d96-8ba8-e0b81d9f52c7"
      }
     }
    },
    "e48eedce-c282-4962-8ae9-f23125b44e8b": {
     "id": "e48eedce-c282-4962-8ae9-f23125b44e8b",
     "prev": "6cf466c3-f9a5-479f-87c3-22e9cc4c0d75",
     "regions": {
      "f184d840-827d-4600-bcd1-c7375283ac52": {
       "attrs": {
        "height": 0.8,
        "width": 0.8,
        "x": 0.1,
        "y": 0.1
       },
       "content": {
        "cell": "3369e6d1-bb9d-4459-ba9a-b03cec4cad18",
        "part": "whole"
       },
       "id": "f184d840-827d-4600-bcd1-c7375283ac52"
      }
     }
    },
    "e689943a-aa2b-493c-955e-e205285c4044": {
     "id": "e689943a-aa2b-493c-955e-e205285c4044",
     "prev": "e01c6464-0421-4bb2-91e5-e8d00fb0621f",
     "regions": {
      "55d45c68-d358-4082-beeb-70a96984924f": {
       "attrs": {
        "height": 0.8,
        "width": 0.8,
        "x": 0.1,
        "y": 0.1
       },
       "content": {
        "cell": "8ab7bf75-c66f-4286-96a1-1ae5bd001629",
        "part": "whole"
       },
       "id": "55d45c68-d358-4082-beeb-70a96984924f"
      }
     }
    },
    "e8797120-2365-4308-b839-611d539bd92c": {
     "id": "e8797120-2365-4308-b839-611d539bd92c",
     "prev": "aed53b40-b720-444a-bd2c-913201d5b19b",
     "regions": {
      "7feec5f6-16b0-45e5-98f7-37db49f68646": {
       "attrs": {
        "height": 0.8,
        "width": 0.8,
        "x": 0.1,
        "y": 0.1
       },
       "content": {
        "cell": "e4280dcd-4a89-4053-a752-47a56d077200",
        "part": "whole"
       },
       "id": "7feec5f6-16b0-45e5-98f7-37db49f68646"
      }
     }
    },
    "f26b5a43-7755-46fd-bf51-3500ca4c30cb": {
     "id": "f26b5a43-7755-46fd-bf51-3500ca4c30cb",
     "prev": "b4bdea2b-ebc2-4cbe-be1b-1063fbd063f4",
     "regions": {
      "e953052c-f79c-4512-a4e5-73d932460271": {
       "attrs": {
        "height": 0.8,
        "width": 0.8,
        "x": 0.1,
        "y": 0.1
       },
       "content": {
        "cell": "320c5cec-f03b-4a99-8b71-7238e6fe7912",
        "part": "whole"
       },
       "id": "e953052c-f79c-4512-a4e5-73d932460271"
      }
     }
    },
    "f36e3c2a-b699-45fa-b9cc-d6e3a2607efb": {
     "id": "f36e3c2a-b699-45fa-b9cc-d6e3a2607efb",
     "prev": "9b95b8f8-6fa9-4613-a926-5a8dc0f9b4ea",
     "regions": {
      "874e8e32-2a7b-489c-ba05-c3665a44ac0e": {
       "attrs": {
        "height": 0.8,
        "width": 0.8,
        "x": 0.1,
        "y": 0.1
       },
       "content": {
        "cell": "51963bb4-6cbd-406b-af3e-59f4c1b4313c",
        "part": "whole"
       },
       "id": "874e8e32-2a7b-489c-ba05-c3665a44ac0e"
      }
     }
    },
    "ffa5ad71-e395-4b9b-890b-1bc007c36bf0": {
     "id": "ffa5ad71-e395-4b9b-890b-1bc007c36bf0",
     "prev": "6be47ab5-da12-4267-a8d9-09f27e08843e",
     "regions": {
      "8317f18d-ea97-4eba-955b-cfdb3e4439b1": {
       "attrs": {
        "height": 0.8,
        "width": 0.8,
        "x": 0.1,
        "y": 0.1
       },
       "content": {
        "cell": "19ada4cb-adb8-48fd-820c-ae22acda0bc1",
        "part": "whole"
       },
       "id": "8317f18d-ea97-4eba-955b-cfdb3e4439b1"
      }
     }
    }
   },
   "themes": {}
  }
 },
 "nbformat": 4,
 "nbformat_minor": 2
}
