{
 "cells": [
  {
   "cell_type": "markdown",
   "metadata": {},
   "source": [
    "# Course material\n",
    "\n",
    "* [Python 101](Python101.ipynb) \n",
    "* [The Scientific Python Stack](ScientificPython.ipynb) \n",
    "* Lesson 03 - [Linear regression](LinearRegression.ipynb) and [Logistic regression](BinaryClassLogisticRegression.ipynb) : Wednesday 09:00-10:30\n",
    "* Lesson 04 - [Multi-class Logistic Regression](MultiClassLogisticRegression.ipynb)\n",
    "* Lesson 05 - [Support-vector Machines](svm.ipynb) : Thursday 09:00-10:30\n",
    "* Lesson 06 - [Artificial Neural Networks](Aritifial_Neural_Network.ipynb) : Thursday 15:00-16:30 ([Live Coding](LiveCoding-ANN.ipynb))\n",
    "* Lesson 07 - [Live Coding of All the algorithms](AllInOne.ipynb) : Thursday 17:00-18:30\n",
    "* Lesson 08 - [Convolutional Neural Networks](CNN.ipynb) : Friday 09:00-10:30\n"
   ]
  }
 ],
 "metadata": {
  "kernelspec": {
   "display_name": "Python 3",
   "language": "python",
   "name": "python3"
  },
  "language_info": {
   "codemirror_mode": {
    "name": "ipython",
    "version": 3
   },
   "file_extension": ".py",
   "mimetype": "text/x-python",
   "name": "python",
   "nbconvert_exporter": "python",
   "pygments_lexer": "ipython3",
   "version": "3.6.6"
  }
 },
 "nbformat": 4,
 "nbformat_minor": 2
}
