{
 "cells": [
  {
   "cell_type": "markdown",
   "metadata": {},
   "source": [
    "# The Scientific Python Stack"
   ]
  },
  {
   "cell_type": "markdown",
   "metadata": {},
   "source": [
    "In this session we will learn how to use Python's scientific stack, a bundle of packages designed for fast and efficient numerical work. They are all bundled under the \"Scipy\" name. \n",
    "\n",
    "* Numpy, the fundamental package that everything else is based on. Numpy provides an efficient, tightly-packed multidimensional array object that you will no doubt become very familiar with.\n",
    "\n",
    "* Scipy, the sister library of Numpy (not to be confused with the umbrella term \"Scipy\" for all these packages). Scipy contains scientific and linear algebra routines that you might expect coming from e.g. Matlab. Things like numeric integration, ODE solvers, sparse matrices, linear system solvers, etc.\n",
    "\n",
    "* Matplotlib, an attempt to port Matlab's plotting suite to Python mostly verbatim.\n",
    "\n",
    "* Jupyter/IPython: the in-browser notebook I'm using to write this document.\n",
    "\n",
    "* Sympy, a package for symbolic mathematics.\n",
    "\n",
    "* Pandas, a wrapper around Numpy arrays specifically geared towards statistics and data analysis.\n",
    "\n",
    "It will be useful to keep the following links handy:\n",
    "\n",
    "* [Numpy Reference](https://docs.scipy.org/doc/numpy/reference/index.html)\n",
    "* [PyPlot API Reference](https://matplotlib.org/api/pyplot_api.html)\n",
    "* [Pandas Dataframe](https://pandas.pydata.org/pandas-docs/stable/generated/pandas.DataFrame.html) (see also index on the left)\n",
    "\n",
    "In our work we will mostly concern ourselves with Numpy, Matplotlib and Pandas. Scipy will be useful too, no doubt, but mostly as a grab-bag of miscellany rather than as something to *learn* per se.\n",
    "\n",
    "* [Introduction to Numpy](Numpy.ipynb)\n",
    "* [Introduction to Matplotlib](Matplotlib.ipynb)\n",
    "* [Introduction to Pandas](Pandas.ipynb)"
   ]
  }
 ],
 "metadata": {
  "kernelspec": {
   "display_name": "Python 3",
   "language": "python",
   "name": "python3"
  },
  "language_info": {
   "codemirror_mode": {
    "name": "ipython",
    "version": 3
   },
   "file_extension": ".py",
   "mimetype": "text/x-python",
   "name": "python",
   "nbconvert_exporter": "python",
   "pygments_lexer": "ipython3",
   "version": "3.6.0"
  }
 },
 "nbformat": 4,
 "nbformat_minor": 2
}
